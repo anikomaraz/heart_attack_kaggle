{
 "cells": [
  {
   "cell_type": "markdown",
   "id": "c32e51b6-9e75-4736-9b05-c0645b8bb085",
   "metadata": {},
   "source": [
    "# Heart Attack - Kaggle competition\n",
    "\n",
    "This is an active Kaggle competition for Kudos.\n",
    "Details: https://www.kaggle.com/competitions/heart-attack-risk-analysis/overview"
   ]
  },
  {
   "cell_type": "markdown",
   "id": "7c31b4dd-f909-4cf1-b305-f76807e5c467",
   "metadata": {},
   "source": [
    "### IMPORTS"
   ]
  },
  {
   "cell_type": "code",
   "execution_count": 28,
   "id": "c24afe73-0777-487f-b960-c275a5f63a77",
   "metadata": {},
   "outputs": [],
   "source": [
    "from matplotlib import pyplot as plt\n",
    "import numpy as np\n",
    "import pandas as pd\n",
    "from dataprep.eda import create_report\n",
    "import statistics"
   ]
  },
  {
   "cell_type": "markdown",
   "id": "6dc7a3fd-0143-4d35-879c-56269ee53e68",
   "metadata": {},
   "source": [
    "### DATA: GET AND EXPLORE"
   ]
  },
  {
   "cell_type": "code",
   "execution_count": 20,
   "id": "22201a0f-42ef-459e-9fb5-dfae332e24ec",
   "metadata": {},
   "outputs": [],
   "source": [
    "df_raw_train = pd.read_csv('data/train.csv')\n",
    "df_raw_test = pd.read_csv('data/test.csv')"
   ]
  },
  {
   "cell_type": "markdown",
   "id": "0cabed33-60d4-40b6-8c2c-630c9b0eb7f5",
   "metadata": {},
   "source": [
    "Here is the first 5 rows of the data: "
   ]
  },
  {
   "cell_type": "code",
   "execution_count": 21,
   "id": "484d0b52-a63c-4724-9c08-d666da127672",
   "metadata": {},
   "outputs": [
    {
     "data": {
      "text/html": [
       "<div>\n",
       "<style scoped>\n",
       "    .dataframe tbody tr th:only-of-type {\n",
       "        vertical-align: middle;\n",
       "    }\n",
       "\n",
       "    .dataframe tbody tr th {\n",
       "        vertical-align: top;\n",
       "    }\n",
       "\n",
       "    .dataframe thead th {\n",
       "        text-align: right;\n",
       "    }\n",
       "</style>\n",
       "<table border=\"1\" class=\"dataframe\">\n",
       "  <thead>\n",
       "    <tr style=\"text-align: right;\">\n",
       "      <th></th>\n",
       "      <th>Patient ID</th>\n",
       "      <th>Age</th>\n",
       "      <th>Sex</th>\n",
       "      <th>Cholesterol</th>\n",
       "      <th>Blood Pressure</th>\n",
       "      <th>Heart Rate</th>\n",
       "      <th>Diabetes</th>\n",
       "      <th>Family History</th>\n",
       "      <th>Smoking</th>\n",
       "      <th>Obesity</th>\n",
       "      <th>...</th>\n",
       "      <th>Sedentary Hours Per Day</th>\n",
       "      <th>Income</th>\n",
       "      <th>BMI</th>\n",
       "      <th>Triglycerides</th>\n",
       "      <th>Physical Activity Days Per Week</th>\n",
       "      <th>Sleep Hours Per Day</th>\n",
       "      <th>Country</th>\n",
       "      <th>Continent</th>\n",
       "      <th>Hemisphere</th>\n",
       "      <th>Heart Attack Risk</th>\n",
       "    </tr>\n",
       "  </thead>\n",
       "  <tbody>\n",
       "    <tr>\n",
       "      <th>0</th>\n",
       "      <td>RDG0550</td>\n",
       "      <td>33</td>\n",
       "      <td>Male</td>\n",
       "      <td>200</td>\n",
       "      <td>129/90</td>\n",
       "      <td>48</td>\n",
       "      <td>0</td>\n",
       "      <td>1</td>\n",
       "      <td>1</td>\n",
       "      <td>1</td>\n",
       "      <td>...</td>\n",
       "      <td>0.138443</td>\n",
       "      <td>184066</td>\n",
       "      <td>30.449815</td>\n",
       "      <td>63</td>\n",
       "      <td>6</td>\n",
       "      <td>7</td>\n",
       "      <td>Argentina</td>\n",
       "      <td>South America</td>\n",
       "      <td>Southern Hemisphere</td>\n",
       "      <td>1</td>\n",
       "    </tr>\n",
       "    <tr>\n",
       "      <th>1</th>\n",
       "      <td>NMA3851</td>\n",
       "      <td>56</td>\n",
       "      <td>Female</td>\n",
       "      <td>262</td>\n",
       "      <td>159/105</td>\n",
       "      <td>46</td>\n",
       "      <td>1</td>\n",
       "      <td>0</td>\n",
       "      <td>1</td>\n",
       "      <td>0</td>\n",
       "      <td>...</td>\n",
       "      <td>0.369552</td>\n",
       "      <td>211755</td>\n",
       "      <td>34.973685</td>\n",
       "      <td>333</td>\n",
       "      <td>7</td>\n",
       "      <td>8</td>\n",
       "      <td>Nigeria</td>\n",
       "      <td>Africa</td>\n",
       "      <td>Northern Hemisphere</td>\n",
       "      <td>1</td>\n",
       "    </tr>\n",
       "    <tr>\n",
       "      <th>2</th>\n",
       "      <td>TUI5807</td>\n",
       "      <td>19</td>\n",
       "      <td>Female</td>\n",
       "      <td>140</td>\n",
       "      <td>161/109</td>\n",
       "      <td>54</td>\n",
       "      <td>0</td>\n",
       "      <td>1</td>\n",
       "      <td>0</td>\n",
       "      <td>0</td>\n",
       "      <td>...</td>\n",
       "      <td>8.646334</td>\n",
       "      <td>252203</td>\n",
       "      <td>30.554246</td>\n",
       "      <td>537</td>\n",
       "      <td>2</td>\n",
       "      <td>10</td>\n",
       "      <td>Thailand</td>\n",
       "      <td>Asia</td>\n",
       "      <td>Northern Hemisphere</td>\n",
       "      <td>0</td>\n",
       "    </tr>\n",
       "    <tr>\n",
       "      <th>3</th>\n",
       "      <td>YYT5016</td>\n",
       "      <td>50</td>\n",
       "      <td>Female</td>\n",
       "      <td>163</td>\n",
       "      <td>120/62</td>\n",
       "      <td>53</td>\n",
       "      <td>0</td>\n",
       "      <td>1</td>\n",
       "      <td>1</td>\n",
       "      <td>1</td>\n",
       "      <td>...</td>\n",
       "      <td>1.107884</td>\n",
       "      <td>121954</td>\n",
       "      <td>35.390265</td>\n",
       "      <td>591</td>\n",
       "      <td>0</td>\n",
       "      <td>9</td>\n",
       "      <td>Spain</td>\n",
       "      <td>Europe</td>\n",
       "      <td>Southern Hemisphere</td>\n",
       "      <td>1</td>\n",
       "    </tr>\n",
       "    <tr>\n",
       "      <th>4</th>\n",
       "      <td>ZAC5937</td>\n",
       "      <td>89</td>\n",
       "      <td>Female</td>\n",
       "      <td>144</td>\n",
       "      <td>153/110</td>\n",
       "      <td>92</td>\n",
       "      <td>1</td>\n",
       "      <td>0</td>\n",
       "      <td>1</td>\n",
       "      <td>0</td>\n",
       "      <td>...</td>\n",
       "      <td>1.337570</td>\n",
       "      <td>180121</td>\n",
       "      <td>39.575483</td>\n",
       "      <td>145</td>\n",
       "      <td>2</td>\n",
       "      <td>5</td>\n",
       "      <td>Germany</td>\n",
       "      <td>Europe</td>\n",
       "      <td>Northern Hemisphere</td>\n",
       "      <td>1</td>\n",
       "    </tr>\n",
       "  </tbody>\n",
       "</table>\n",
       "<p>5 rows × 26 columns</p>\n",
       "</div>"
      ],
      "text/plain": [
       "  Patient ID  Age     Sex  Cholesterol Blood Pressure  Heart Rate  Diabetes  \\\n",
       "0    RDG0550   33    Male          200         129/90          48         0   \n",
       "1    NMA3851   56  Female          262        159/105          46         1   \n",
       "2    TUI5807   19  Female          140        161/109          54         0   \n",
       "3    YYT5016   50  Female          163         120/62          53         0   \n",
       "4    ZAC5937   89  Female          144        153/110          92         1   \n",
       "\n",
       "   Family History  Smoking  Obesity  ...  Sedentary Hours Per Day  Income  \\\n",
       "0               1        1        1  ...                 0.138443  184066   \n",
       "1               0        1        0  ...                 0.369552  211755   \n",
       "2               1        0        0  ...                 8.646334  252203   \n",
       "3               1        1        1  ...                 1.107884  121954   \n",
       "4               0        1        0  ...                 1.337570  180121   \n",
       "\n",
       "         BMI  Triglycerides  Physical Activity Days Per Week  \\\n",
       "0  30.449815             63                                6   \n",
       "1  34.973685            333                                7   \n",
       "2  30.554246            537                                2   \n",
       "3  35.390265            591                                0   \n",
       "4  39.575483            145                                2   \n",
       "\n",
       "   Sleep Hours Per Day    Country      Continent           Hemisphere  \\\n",
       "0                    7  Argentina  South America  Southern Hemisphere   \n",
       "1                    8    Nigeria         Africa  Northern Hemisphere   \n",
       "2                   10   Thailand           Asia  Northern Hemisphere   \n",
       "3                    9      Spain         Europe  Southern Hemisphere   \n",
       "4                    5    Germany         Europe  Northern Hemisphere   \n",
       "\n",
       "   Heart Attack Risk  \n",
       "0                  1  \n",
       "1                  1  \n",
       "2                  0  \n",
       "3                  1  \n",
       "4                  1  \n",
       "\n",
       "[5 rows x 26 columns]"
      ]
     },
     "execution_count": 21,
     "metadata": {},
     "output_type": "execute_result"
    }
   ],
   "source": [
    "df_raw_train.head()"
   ]
  },
  {
   "cell_type": "markdown",
   "id": "23dd3836-c506-446b-af42-319e10ddf6eb",
   "metadata": {},
   "source": [
    "Let's see the data more in details (i.e. mean and distribution). "
   ]
  },
  {
   "cell_type": "code",
   "execution_count": 7,
   "id": "b77079fd-abb9-4e2b-a5a6-195e1222012e",
   "metadata": {},
   "outputs": [
    {
     "data": {
      "application/vnd.jupyter.widget-view+json": {
       "model_id": "",
       "version_major": 2,
       "version_minor": 0
      },
      "text/plain": [
       "  0%|                                                                                                         …"
      ]
     },
     "metadata": {},
     "output_type": "display_data"
    },
    {
     "name": "stderr",
     "output_type": "stream",
     "text": [
      "/home/aniko/.local/lib/python3.10/site-packages/dataprep/eda/distribution/render.py:274: FutureWarning: The frame.append method is deprecated and will be removed from pandas in a future version. Use pandas.concat instead.\n",
      "  df = df.append(pd.DataFrame({col: [nrows - npresent]}, index=[\"Others\"]))\n",
      "/home/aniko/.local/lib/python3.10/site-packages/dataprep/eda/distribution/render.py:274: FutureWarning: The frame.append method is deprecated and will be removed from pandas in a future version. Use pandas.concat instead.\n",
      "  df = df.append(pd.DataFrame({col: [nrows - npresent]}, index=[\"Others\"]))\n",
      "/home/aniko/.local/lib/python3.10/site-packages/dataprep/eda/distribution/render.py:274: FutureWarning: The frame.append method is deprecated and will be removed from pandas in a future version. Use pandas.concat instead.\n",
      "  df = df.append(pd.DataFrame({col: [nrows - npresent]}, index=[\"Others\"]))\n"
     ]
    },
    {
     "name": "stdout",
     "output_type": "stream",
     "text": [
      "Report has been saved to report_heart_attack.html!\n"
     ]
    }
   ],
   "source": [
    "report = create_report(df_raw_train)\n",
    "report.save('report_heart_attack')"
   ]
  },
  {
   "cell_type": "markdown",
   "id": "2160f155-00e3-4658-9246-79852158ce55",
   "metadata": {},
   "source": [
    "So. The EDA profiler tells us is that we have 26 variables (25 features + 1 target variable of low/high risk) and 7010 patients in rows. There is no missing data or duplicate rows, meaning each record is unique, which is great. We have 16 categorical and 9 numberical variables, plus a geo variable as a bonus (South/North hemisphere). \n",
    "\n",
    "Looking closer at the data, there seem to be 2 distinct type of measures / features: \n",
    "1. __biomarkers__ such as Blood Pressure, Family History, Diabetes, Previous Heart Problems and partially Medication Use, AND\n",
    "2. __behavioural indicatiors__ such as Smoking, Obesity, Alcohol Consumption and Physical Activity (Days per week)\n",
    "\n",
    "The mean __age__ is 54 years with a standard deviation of 21 years, and a range of 18-90, which nicely covers the general population characteristics. In terms of __sex__ about two-thirds are men, the rest is female. \n",
    "\n",
    "Mean __Cholesterol__ levels are at 260, which is above the normal value of 240, although this measure has a high variability (standard deviation = 81) and an almost bimodal distribution (values centering at 250 and 355 with a \"valley\" at 320). __Blood Pressure__ has to be mined, as the format is currently not suitable for analysis (i.e. 159/105). The mean of __Heart Rate__ is around 75 (std: 21, 40-110) which is again in the normal range. Noteworty is the bimodal distribution of this measure, with centers around 50 and 70 (valley at 72). \n",
    "__Diabetes__ is represented as a bivariate measure, with about 2/3rds of the sample having diabetes. __Family History__, __Obesity__ and __Previous Heart Problems__ each take two values, about half of the participants being obese, having previously heart problems, and also half reporting positive value for heart attack in the family. A suprisingly large proportion, about 90% of the sample report __Smoking__. Most of them (65%) reports __Alcohol Consumption__. After such high proportions of \"unhealthy behaviour\" the patients suprisingly report a mean __Exercise__ of 10 hours per week (std: 5.8, 0-20 hrs). In terms of __Diet__, there are equal proportions of Health, Average and Unhealth dieters. Although there is no information on which kind of __Medication__ patients take, half of them report using. __Stress Levels__ are approximately equally distributed among 10 possible categories. In terms of __Sleep__, there is a large variation in the data: the mean is 6 hours, ranging between 0.001 (?!) and 12 hours. __Income__ centers around 158.000 USD a year, which indicates the sample being well, pretty rich - over twice as high than the average yearly salary in 2023. __BMI__ may also be an important indicator: the mean is 29, with a standard deviation of 6.3 indicating general population levels. In terms of __Triglycerides__, the mean is around 416 (data are approximately equally distributed between 30 and 800), which indicates high levels compared to the normal being less than 150mg/dL. __Physical Activity__ ranges equally between 0 and 7 days a week as well as __Sleep Hours Per Day__ (ranging between 4 and 10 but in almost fully equal proportions in the sample). In terms of __Country__ most patients come from \"Otherland\", the rest being distributed accross the world and accross __Continents__ with Europe and Asia being the most represented. This also leads to the fact that most patients (about 70%) live on the Northern __Hemisphere__. Finally, our target variable: 35% has a high __risk for heart attack__, and 65% has low risk. \n",
    "\n",
    "In summary the data is of good quality with no missing or weird values, also no duplicates. However, given the probably artificial nature of the data, not all variables are expected to be associated with the target variable in this modeling given their uniform distribution. \n",
    "\n",
    "\n"
   ]
  },
  {
   "cell_type": "markdown",
   "id": "96950d4c-3303-45a8-bf39-ebfd12d9a22f",
   "metadata": {},
   "source": [
    "Looking at the distribution between variables, smoking is negatively associated with age (so young people are more likely to smoke). All other variables have a negligible association with each other. "
   ]
  },
  {
   "cell_type": "markdown",
   "id": "9b5657e9-4c2d-45e2-8851-427e0b5ce657",
   "metadata": {},
   "source": [
    "### PREPROCESSING"
   ]
  },
  {
   "cell_type": "markdown",
   "id": "52942bff-4a96-4b46-9281-7894676b4dc8",
   "metadata": {},
   "source": [
    "After looking at the data, I will do the following to preprocess: \n",
    "1. split Blood Pressure into Systolic and Diastolic values\n",
    "2. split Cholesterol levels: \n",
    "    - at 320 as the data suggests and \n",
    "    - at 240 which is the official treshold for having normal levels of Cholesterol\n",
    "3. "
   ]
  },
  {
   "cell_type": "code",
   "execution_count": 35,
   "id": "9824cfba-9597-470b-8efc-160aa6fc45cb",
   "metadata": {},
   "outputs": [],
   "source": [
    "# def function to split blood pressure data (current format: 129/90)\n",
    "def split_blood_pressure(df): \n",
    "    df[['Systolic', 'Diastolic']] = df['Blood Pressure'].str.split('/', expand = True)\n",
    "    df['Systolic'] = pd.to_numeric(df['Systolic'])\n",
    "    df['Diastolic'] = pd.to_numeric(df['Diastolic'])\n",
    "    df.drop(columns = ['Blood Pressure'], inplace = True)\n",
    "\n",
    "# split cholesterol according to sample valley\n",
    "def split_cholesterol_sample(df):\n",
    "    df['Cholesterol_sample_split'] = np.where(df['Cholesterol'] > 320, 1, 0)\n",
    "    \n",
    "# split cholesterol according to health guidelines\n",
    "def split_cholesterol_guideline(df):\n",
    "    df['Cholesterol_guideline_split'] = np.where(df['Cholesterol'] > 240, 1, 0)\n",
    "    "
   ]
  },
  {
   "cell_type": "code",
   "execution_count": 36,
   "id": "5cc383a1-8fa1-4b1a-9858-d535cc14f219",
   "metadata": {},
   "outputs": [],
   "source": [
    "# preprocess TRAIN data\n",
    "df_preprocessed_train = df_raw_train.copy()\n",
    "\n",
    "split_blood_pressure(df_preprocessed_train)\n",
    "split_cholesterol_sample(df_preprocessed_train)\n",
    "split_cholesterol_guideline(df_preprocessed_train)"
   ]
  },
  {
   "cell_type": "code",
   "execution_count": 37,
   "id": "7b50e7e8-e53f-43ae-a49c-a596277d57ea",
   "metadata": {},
   "outputs": [],
   "source": [
    "# preprocess TRAIN data\n",
    "df_preprocessed_test = df_raw_test.copy()\n",
    "\n",
    "split_blood_pressure(df_preprocessed_test)\n",
    "split_cholesterol_sample(df_preprocessed_test)\n",
    "split_cholesterol_guideline(df_preprocessed_test)"
   ]
  },
  {
   "cell_type": "markdown",
   "id": "9cd1abaa-3d17-4073-aac5-a5a8fa0eb944",
   "metadata": {},
   "source": [
    "### MODELING"
   ]
  },
  {
   "cell_type": "code",
   "execution_count": null,
   "id": "ac51180b-af81-4d53-a5d6-9070c45cfac8",
   "metadata": {},
   "outputs": [],
   "source": []
  },
  {
   "cell_type": "code",
   "execution_count": null,
   "id": "a80a10d1-5f03-4e03-80e4-3320c6896564",
   "metadata": {},
   "outputs": [],
   "source": [
    "\n",
    "###### MODELING ######\n",
    "#pip install -U scikit-learn\n",
    "# from sklearn.linear_model import LinearRegression\n",
    "# from sklearn.model_selection import cross_validate\n",
    "\n",
    "# Ready X and y\n",
    "# X = livecode_data[['GrLivArea']]\n",
    "# y = livecode_data['SalePrice']\n",
    "#\n",
    "# # Split into Train/Test\n",
    "# X_train, X_test, y_train, y_test = train_test_split(X, y, test_size=0.3)\n",
    "#\n",
    "#\n",
    "#\n",
    "# # Instantiate model\n",
    "# model = LinearRegression()\n",
    "#\n",
    "# # 5-Fold Cross validate model\n",
    "# cv_results = cross_validate(model, X, y, cv=5)\n",
    "# # Rule of thumb:  K = 5   or 10\n",
    "# # Scores\n",
    "# print(cv_results['test_score'])\n",
    "# # Mean of scores\n",
    "# cv_results['test_score'].mean()\n",
    "#\n",
    "# # check model learning curves\n",
    "# import numpy as np\n",
    "# from sklearn.model_selection import learning_curve\n",
    "#\n",
    "# train_sizes = [25,50,75,100,250,500,750,1000,1150]\n",
    "#\n",
    "# # Get train scores (R2), train sizes, and validation scores using `learning_curve`\n",
    "# train_sizes, train_scores, test_scores = learning_curve(\n",
    "#     estimator=LinearRegression(), X=X, y=y, train_sizes=train_sizes, cv=5)\n",
    "#\n",
    "# # Take the mean of cross-validated train scores and validation scores\n",
    "# train_scores_mean = np.mean(train_scores, axis=1)\n",
    "# test_scores_mean = np.mean(test_scores, axis=1)\n",
    "#\n",
    "# # plt.plot(train_sizes, train_scores_mean, label = 'Training score')\n",
    "# # plt.plot(train_sizes, test_scores_mean, label = 'Test score')\n",
    "# # plt.ylabel('r2 score', fontsize = 14)\n",
    "# # plt.xlabel('Training set size', fontsize = 14)\n",
    "# # plt.title('Learning curves', fontsize = 18, y = 1.03)\n",
    "# # plt.legend()"
   ]
  },
  {
   "cell_type": "code",
   "execution_count": null,
   "id": "75eae6b4-3809-4d33-970e-966ec049b0cc",
   "metadata": {},
   "outputs": [],
   "source": []
  }
 ],
 "metadata": {
  "kernelspec": {
   "display_name": "Python 3 (ipykernel)",
   "language": "python",
   "name": "python3"
  },
  "language_info": {
   "codemirror_mode": {
    "name": "ipython",
    "version": 3
   },
   "file_extension": ".py",
   "mimetype": "text/x-python",
   "name": "python",
   "nbconvert_exporter": "python",
   "pygments_lexer": "ipython3",
   "version": "3.10.12"
  }
 },
 "nbformat": 4,
 "nbformat_minor": 5
}
