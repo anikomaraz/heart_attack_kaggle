{
 "cells": [
  {
   "cell_type": "code",
   "execution_count": 15,
   "id": "6affde4e-b577-4af4-8d40-786d3057752b",
   "metadata": {},
   "outputs": [
    {
     "name": "stdout",
     "output_type": "stream",
     "text": [
      "Best threshold: 0.5306122448979592 with precision score: 0.9994206257242179\n",
      "Test set precision with tuned threshold: 0.3554987212276215\n"
     ]
    },
    {
     "data": {
      "text/plain": [
       "1753"
      ]
     },
     "execution_count": 15,
     "metadata": {},
     "output_type": "execute_result"
    }
   ],
   "source": [
    "## TRAIN AND TUNE THRESHOLD FOR PRECISION\n",
    "\n",
    "# Fit the pipeline\n",
    "xgb_pipe.fit(X_train, y_train)\n",
    "\n",
    "# Get predicted probabilities for the training set\n",
    "train_probs = xgb_pipe.predict_proba(X_train)[:, 1]\n",
    "\n",
    "# Evaluate thresholds\n",
    "thresholds = np.linspace(0.4, 0.6, 50)  \n",
    "best_threshold = None\n",
    "best_precision = 0.0\n",
    "\n",
    "for threshold in thresholds:\n",
    "    train_predictions = (train_probs > threshold).astype(int)\n",
    "\n",
    "    precision = precision_score(y_train, train_predictions)\n",
    "\n",
    "    # Check if this threshold gives better precision\n",
    "    if precision > best_precision:\n",
    "        best_precision = precision\n",
    "        best_threshold = threshold\n",
    "\n",
    "# Print the best threshold found\n",
    "print(f\"Best threshold: {best_threshold} with precision score: {best_precision}\")\n",
    "\n",
    "## APPLY THE BEST THRESHOLD TO THE TEST SET\n",
    "\n",
    "# Predict probabilities for the test set\n",
    "test_probs = xgb_pipe.predict_proba(X_test)[:, 1]\n",
    "test_predictions = (test_probs > best_threshold).astype(int)\n",
    "\n",
    "# Evaluate precision on the test set with the tuned threshold\n",
    "test_precision = precision_score(y_test, test_predictions)\n",
    "print(f\"Test set precision with tuned threshold: {test_precision}\")\n",
    "\n",
    "## PREDICT ON KAGGLE TEST SET AND SAVE SUBMISSION\n",
    "\n",
    "# Predict probabilities for the Kaggle test set\n",
    "kaggle_test_probs = xgb_pipe.predict_proba(X_df_kaggle_test_selected)[:, 1]\n",
    "\n",
    "# Apply the best threshold to Kaggle test set predictions\n",
    "kaggle_test_predictions = (kaggle_test_probs > best_threshold).astype(int)\n",
    "\n",
    "# Prepare submission dataframe\n",
    "df_kaggle_test = pd.read_csv(\"../data/test.csv\")\n",
    "df_kaggle_predicted_V5 = {\n",
    "    \"Patient ID\": df_kaggle_test[\"Patient ID\"],\n",
    "    \"Heart Attack Risk\": kaggle_test_predictions,\n",
    "}\n",
    "df_kaggle_predicted_V5_xgb_precision = pd.DataFrame(df_kaggle_predicted_V5)\n",
    "\n",
    "# Save submission to CSV\n",
    "df_kaggle_predicted_V5_xgb_precision.to_csv(\n",
    "    \"../submission/df_kaggle_predicted_V5_xgb_precision.csv\", index=False\n",
    ")\n",
    "\n",
    "# Number of cases in the unseen Kaggle test set\n",
    "len(df_kaggle_test)\n"
   ]
  },
  {
   "cell_type": "code",
   "execution_count": 16,
   "id": "caf46c41-025e-4bc0-8787-8448bada624e",
   "metadata": {},
   "outputs": [
    {
     "data": {
      "text/plain": [
       "339"
      ]
     },
     "execution_count": 16,
     "metadata": {},
     "output_type": "execute_result"
    }
   ],
   "source": [
    "sum(kaggle_test_predictions)"
   ]
  },
  {
   "cell_type": "code",
   "execution_count": null,
   "id": "ddc91192-83e3-4853-a7e2-c3b60324ceb8",
   "metadata": {},
   "outputs": [],
   "source": []
  }
 ],
 "metadata": {
  "kernelspec": {
   "display_name": "Python 3 (ipykernel)",
   "language": "python",
   "name": "python3"
  },
  "language_info": {
   "codemirror_mode": {
    "name": "ipython",
    "version": 3
   },
   "file_extension": ".py",
   "mimetype": "text/x-python",
   "name": "python",
   "nbconvert_exporter": "python",
   "pygments_lexer": "ipython3",
   "version": "3.10.12"
  }
 },
 "nbformat": 4,
 "nbformat_minor": 5
}
