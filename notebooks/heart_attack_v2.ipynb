{
 "cells": [
  {
   "cell_type": "markdown",
   "id": "c32e51b6-9e75-4736-9b05-c0645b8bb085",
   "metadata": {},
   "source": [
    "# Heart Attack - Kaggle competition  V 2.0"
   ]
  },
  {
   "cell_type": "markdown",
   "id": "d1639807-130e-407e-911f-1f1d1c36c98a",
   "metadata": {},
   "source": [
    "Author: _Aniko Maraz, PhD_"
   ]
  },
  {
   "cell_type": "markdown",
   "id": "80d5d6cb-7f18-4aed-b0a6-c62b9736b4b4",
   "metadata": {},
   "source": [
    "<div class=\"alert alert-block alert-info\">\n",
    "    \n",
    "This is an <a href=\"https://www.kaggle.com/competitions/heart-attack-risk-analysis/overview\">active Kaggle competition</a>  for Kudos. <br>    \n",
    "The task is to predict (on an unseen dataset) if the patient is at low or high risk of heart attack.  <br>\n",
    "\n",
    "In the current notebook I will preprocess the data, attempt to fit a Logistic Regression, SVM, XGBoost model and a Decision tree for the classification task (with SVM producing the best accuracy) using pipelines. This has got me place 46 in the open competition (improvement of 10 places compared to V 1.0!). <br>\n",
    "\n",
    "</div>"
   ]
  },
  {
   "cell_type": "markdown",
   "id": "7c31b4dd-f909-4cf1-b305-f76807e5c467",
   "metadata": {},
   "source": [
    "## Imports"
   ]
  },
  {
   "cell_type": "code",
   "execution_count": 83,
   "id": "7bf60244-8718-452e-95dc-da1472aca324",
   "metadata": {},
   "outputs": [
    {
     "name": "stdout",
     "output_type": "stream",
     "text": [
      "The jupyter_black extension is already loaded. To reload it, use:\n",
      "  %reload_ext jupyter_black\n"
     ]
    }
   ],
   "source": [
    "import numpy as np\n",
    "import pandas as pd\n",
    "from dataprep.eda import create_report\n",
    "\n",
    "from matplotlib import pyplot as plt\n",
    "import seaborn as sns\n",
    "\n",
    "from sklearn.model_selection import cross_val_score\n",
    "from sklearn.linear_model import LogisticRegression\n",
    "from sklearn.svm import SVC\n",
    "from xgboost import XGBClassifier\n",
    "from sklearn.tree import DecisionTreeClassifier\n",
    "from sklearn.pipeline import make_pipeline\n",
    "from sklearn.compose import ColumnTransformer\n",
    "from sklearn.preprocessing import StandardScaler, OneHotEncoder\n",
    "from sklearn.model_selection import train_test_split\n",
    "\n",
    "import jupyter_black\n",
    "import warnings\n",
    "\n",
    "%load_ext jupyter_black\n",
    "%matplotlib inline\n",
    "\n",
    "warnings.filterwarnings(\"ignore\")  # for final notebook\n",
    "\n",
    "# Display all columns in the DataFrame throughout the Notebook\n",
    "pd.set_option(\"display.max_columns\", None)"
   ]
  },
  {
   "cell_type": "markdown",
   "id": "6dc7a3fd-0143-4d35-879c-56269ee53e68",
   "metadata": {},
   "source": [
    "## DATA: GET AND EXPLORE"
   ]
  },
  {
   "cell_type": "code",
   "execution_count": 88,
   "id": "22201a0f-42ef-459e-9fb5-dfae332e24ec",
   "metadata": {},
   "outputs": [
    {
     "data": {
      "text/plain": [
       "(7010, 26)"
      ]
     },
     "execution_count": 88,
     "metadata": {},
     "output_type": "execute_result"
    }
   ],
   "source": [
    "df_raw_train = pd.read_csv(\"data/train.csv\")\n",
    "df_raw_train.shape"
   ]
  },
  {
   "cell_type": "code",
   "execution_count": 89,
   "id": "484d0b52-a63c-4724-9c08-d666da127672",
   "metadata": {},
   "outputs": [
    {
     "data": {
      "text/html": [
       "<div>\n",
       "<style scoped>\n",
       "    .dataframe tbody tr th:only-of-type {\n",
       "        vertical-align: middle;\n",
       "    }\n",
       "\n",
       "    .dataframe tbody tr th {\n",
       "        vertical-align: top;\n",
       "    }\n",
       "\n",
       "    .dataframe thead th {\n",
       "        text-align: right;\n",
       "    }\n",
       "</style>\n",
       "<table border=\"1\" class=\"dataframe\">\n",
       "  <thead>\n",
       "    <tr style=\"text-align: right;\">\n",
       "      <th></th>\n",
       "      <th>Patient ID</th>\n",
       "      <th>Age</th>\n",
       "      <th>Sex</th>\n",
       "      <th>Cholesterol</th>\n",
       "      <th>Blood Pressure</th>\n",
       "      <th>Heart Rate</th>\n",
       "      <th>Diabetes</th>\n",
       "      <th>Family History</th>\n",
       "      <th>Smoking</th>\n",
       "      <th>Obesity</th>\n",
       "      <th>Alcohol Consumption</th>\n",
       "      <th>Exercise Hours Per Week</th>\n",
       "      <th>Diet</th>\n",
       "      <th>Previous Heart Problems</th>\n",
       "      <th>Medication Use</th>\n",
       "      <th>Stress Level</th>\n",
       "      <th>Sedentary Hours Per Day</th>\n",
       "      <th>Income</th>\n",
       "      <th>BMI</th>\n",
       "      <th>Triglycerides</th>\n",
       "      <th>Physical Activity Days Per Week</th>\n",
       "      <th>Sleep Hours Per Day</th>\n",
       "      <th>Country</th>\n",
       "      <th>Continent</th>\n",
       "      <th>Hemisphere</th>\n",
       "      <th>Heart Attack Risk</th>\n",
       "    </tr>\n",
       "  </thead>\n",
       "  <tbody>\n",
       "    <tr>\n",
       "      <th>0</th>\n",
       "      <td>RDG0550</td>\n",
       "      <td>33</td>\n",
       "      <td>Male</td>\n",
       "      <td>200</td>\n",
       "      <td>129/90</td>\n",
       "      <td>48</td>\n",
       "      <td>0</td>\n",
       "      <td>1</td>\n",
       "      <td>1</td>\n",
       "      <td>1</td>\n",
       "      <td>1</td>\n",
       "      <td>7.807690</td>\n",
       "      <td>Unhealthy</td>\n",
       "      <td>0</td>\n",
       "      <td>1</td>\n",
       "      <td>2</td>\n",
       "      <td>0.138443</td>\n",
       "      <td>184066</td>\n",
       "      <td>30.449815</td>\n",
       "      <td>63</td>\n",
       "      <td>6</td>\n",
       "      <td>7</td>\n",
       "      <td>Argentina</td>\n",
       "      <td>South America</td>\n",
       "      <td>Southern Hemisphere</td>\n",
       "      <td>1</td>\n",
       "    </tr>\n",
       "    <tr>\n",
       "      <th>1</th>\n",
       "      <td>NMA3851</td>\n",
       "      <td>56</td>\n",
       "      <td>Female</td>\n",
       "      <td>262</td>\n",
       "      <td>159/105</td>\n",
       "      <td>46</td>\n",
       "      <td>1</td>\n",
       "      <td>0</td>\n",
       "      <td>1</td>\n",
       "      <td>0</td>\n",
       "      <td>0</td>\n",
       "      <td>17.297628</td>\n",
       "      <td>Average</td>\n",
       "      <td>1</td>\n",
       "      <td>0</td>\n",
       "      <td>8</td>\n",
       "      <td>0.369552</td>\n",
       "      <td>211755</td>\n",
       "      <td>34.973685</td>\n",
       "      <td>333</td>\n",
       "      <td>7</td>\n",
       "      <td>8</td>\n",
       "      <td>Nigeria</td>\n",
       "      <td>Africa</td>\n",
       "      <td>Northern Hemisphere</td>\n",
       "      <td>1</td>\n",
       "    </tr>\n",
       "    <tr>\n",
       "      <th>2</th>\n",
       "      <td>TUI5807</td>\n",
       "      <td>19</td>\n",
       "      <td>Female</td>\n",
       "      <td>140</td>\n",
       "      <td>161/109</td>\n",
       "      <td>54</td>\n",
       "      <td>0</td>\n",
       "      <td>1</td>\n",
       "      <td>0</td>\n",
       "      <td>0</td>\n",
       "      <td>1</td>\n",
       "      <td>8.695288</td>\n",
       "      <td>Average</td>\n",
       "      <td>1</td>\n",
       "      <td>1</td>\n",
       "      <td>3</td>\n",
       "      <td>8.646334</td>\n",
       "      <td>252203</td>\n",
       "      <td>30.554246</td>\n",
       "      <td>537</td>\n",
       "      <td>2</td>\n",
       "      <td>10</td>\n",
       "      <td>Thailand</td>\n",
       "      <td>Asia</td>\n",
       "      <td>Northern Hemisphere</td>\n",
       "      <td>0</td>\n",
       "    </tr>\n",
       "    <tr>\n",
       "      <th>3</th>\n",
       "      <td>YYT5016</td>\n",
       "      <td>50</td>\n",
       "      <td>Female</td>\n",
       "      <td>163</td>\n",
       "      <td>120/62</td>\n",
       "      <td>53</td>\n",
       "      <td>0</td>\n",
       "      <td>1</td>\n",
       "      <td>1</td>\n",
       "      <td>1</td>\n",
       "      <td>1</td>\n",
       "      <td>10.161587</td>\n",
       "      <td>Healthy</td>\n",
       "      <td>0</td>\n",
       "      <td>1</td>\n",
       "      <td>7</td>\n",
       "      <td>1.107884</td>\n",
       "      <td>121954</td>\n",
       "      <td>35.390265</td>\n",
       "      <td>591</td>\n",
       "      <td>0</td>\n",
       "      <td>9</td>\n",
       "      <td>Spain</td>\n",
       "      <td>Europe</td>\n",
       "      <td>Southern Hemisphere</td>\n",
       "      <td>1</td>\n",
       "    </tr>\n",
       "    <tr>\n",
       "      <th>4</th>\n",
       "      <td>ZAC5937</td>\n",
       "      <td>89</td>\n",
       "      <td>Female</td>\n",
       "      <td>144</td>\n",
       "      <td>153/110</td>\n",
       "      <td>92</td>\n",
       "      <td>1</td>\n",
       "      <td>0</td>\n",
       "      <td>1</td>\n",
       "      <td>0</td>\n",
       "      <td>1</td>\n",
       "      <td>16.436787</td>\n",
       "      <td>Healthy</td>\n",
       "      <td>1</td>\n",
       "      <td>0</td>\n",
       "      <td>1</td>\n",
       "      <td>1.337570</td>\n",
       "      <td>180121</td>\n",
       "      <td>39.575483</td>\n",
       "      <td>145</td>\n",
       "      <td>2</td>\n",
       "      <td>5</td>\n",
       "      <td>Germany</td>\n",
       "      <td>Europe</td>\n",
       "      <td>Northern Hemisphere</td>\n",
       "      <td>1</td>\n",
       "    </tr>\n",
       "  </tbody>\n",
       "</table>\n",
       "</div>"
      ],
      "text/plain": [
       "  Patient ID  Age     Sex  Cholesterol Blood Pressure  Heart Rate  Diabetes  \\\n",
       "0    RDG0550   33    Male          200         129/90          48         0   \n",
       "1    NMA3851   56  Female          262        159/105          46         1   \n",
       "2    TUI5807   19  Female          140        161/109          54         0   \n",
       "3    YYT5016   50  Female          163         120/62          53         0   \n",
       "4    ZAC5937   89  Female          144        153/110          92         1   \n",
       "\n",
       "   Family History  Smoking  Obesity  Alcohol Consumption  \\\n",
       "0               1        1        1                    1   \n",
       "1               0        1        0                    0   \n",
       "2               1        0        0                    1   \n",
       "3               1        1        1                    1   \n",
       "4               0        1        0                    1   \n",
       "\n",
       "   Exercise Hours Per Week       Diet  Previous Heart Problems  \\\n",
       "0                 7.807690  Unhealthy                        0   \n",
       "1                17.297628    Average                        1   \n",
       "2                 8.695288    Average                        1   \n",
       "3                10.161587    Healthy                        0   \n",
       "4                16.436787    Healthy                        1   \n",
       "\n",
       "   Medication Use  Stress Level  Sedentary Hours Per Day  Income        BMI  \\\n",
       "0               1             2                 0.138443  184066  30.449815   \n",
       "1               0             8                 0.369552  211755  34.973685   \n",
       "2               1             3                 8.646334  252203  30.554246   \n",
       "3               1             7                 1.107884  121954  35.390265   \n",
       "4               0             1                 1.337570  180121  39.575483   \n",
       "\n",
       "   Triglycerides  Physical Activity Days Per Week  Sleep Hours Per Day  \\\n",
       "0             63                                6                    7   \n",
       "1            333                                7                    8   \n",
       "2            537                                2                   10   \n",
       "3            591                                0                    9   \n",
       "4            145                                2                    5   \n",
       "\n",
       "     Country      Continent           Hemisphere  Heart Attack Risk  \n",
       "0  Argentina  South America  Southern Hemisphere                  1  \n",
       "1    Nigeria         Africa  Northern Hemisphere                  1  \n",
       "2   Thailand           Asia  Northern Hemisphere                  0  \n",
       "3      Spain         Europe  Southern Hemisphere                  1  \n",
       "4    Germany         Europe  Northern Hemisphere                  1  "
      ]
     },
     "execution_count": 89,
     "metadata": {},
     "output_type": "execute_result"
    }
   ],
   "source": [
    "df_raw_train.head()"
   ]
  },
  {
   "cell_type": "code",
   "execution_count": 90,
   "id": "b77079fd-abb9-4e2b-a5a6-195e1222012e",
   "metadata": {},
   "outputs": [
    {
     "data": {
      "application/vnd.jupyter.widget-view+json": {
       "model_id": "b5aa6605e22f4d468232f4a9e1639886",
       "version_major": 2,
       "version_minor": 0
      },
      "text/plain": [
       "  0%|                                                  | 0/3307 [00:00<?, ?it/s]"
      ]
     },
     "metadata": {},
     "output_type": "display_data"
    }
   ],
   "source": [
    "report = create_report(df_raw_train)\n",
    "# report.save('report_heart_attack')"
   ]
  },
  {
   "cell_type": "markdown",
   "id": "2160f155-00e3-4658-9246-79852158ce55",
   "metadata": {},
   "source": [
    "The [statistical description of features](https://github.com/anikomaraz/heart_attack_kaggle/blob/main/report_heart_attack.html) is available in V 1.0 of the notebook. Features' data contain no missing values or outliers, most features are close to normal distribution, classes contain approximately the same data points. There are 7010 rows (patients) and 25 features. "
   ]
  },
  {
   "cell_type": "markdown",
   "id": "7fafea29-d733-4101-a4bb-627058c5f3dd",
   "metadata": {},
   "source": [
    "## PREPROCESSING PIPELINE"
   ]
  },
  {
   "cell_type": "code",
   "execution_count": 91,
   "id": "9824cfba-9597-470b-8efc-160aa6fc45cb",
   "metadata": {},
   "outputs": [],
   "source": [
    "# def function to split blood pressure data (current format: 129/90)\n",
    "def split_blood_pressure(df):\n",
    "    df[[\"Systolic\", \"Diastolic\"]] = df[\"Blood Pressure\"].str.split(\"/\", expand=True)\n",
    "    df[\"Systolic\"] = pd.to_numeric(df[\"Systolic\"])\n",
    "    df[\"Diastolic\"] = pd.to_numeric(df[\"Diastolic\"])\n",
    "    df.drop(columns=[\"Blood Pressure\"], inplace=True)\n",
    "\n",
    "\n",
    "# split cholesterol according to sample mean\n",
    "cholesterol_sample_mean = df_raw_train[\"Cholesterol\"].mean()\n",
    "\n",
    "\n",
    "def split_cholesterol_sample(df):\n",
    "    df[\"Cholesterol_sample_split\"] = np.where(\n",
    "        df[\"Cholesterol\"] > cholesterol_sample_mean, 1, 0\n",
    "    )\n",
    "\n",
    "\n",
    "# total excercise\n",
    "def exercise_total(df):\n",
    "    df[\"Exercise Total\"] = (\n",
    "        df[\"Exercise Hours Per Week\"] * df[\"Physical Activity Days Per Week\"]\n",
    "    )\n",
    "\n",
    "\n",
    "# construct the ratio of systolic and diastolic blood pressure\n",
    "def systolic_diastolic_ratio_constructor(df):\n",
    "    df[\"Systolic_Diastolic_Ratio\"] = df[\"Systolic\"] / df[\"Diastolic\"]\n",
    "\n",
    "\n",
    "# create the new variables\n",
    "df = df_raw_train.copy()\n",
    "\n",
    "split_blood_pressure(df=df)\n",
    "split_cholesterol_sample(df=df)\n",
    "exercise_total(df=df)\n",
    "systolic_diastolic_ratio_constructor(df=df)"
   ]
  },
  {
   "cell_type": "markdown",
   "id": "823c8d18-5a8d-4fa6-bc22-2302295303bd",
   "metadata": {},
   "source": [
    "### Define features"
   ]
  },
  {
   "cell_type": "code",
   "execution_count": 95,
   "id": "1debd7d4-849c-4c26-a0ca-68d69f782662",
   "metadata": {},
   "outputs": [],
   "source": [
    "# Defining the features and the target\n",
    "X = df.drop(columns=\"Heart Attack Risk\")\n",
    "y = df[\"Heart Attack Risk\"]"
   ]
  },
  {
   "cell_type": "code",
   "execution_count": 96,
   "id": "bd90596a-d845-435e-bbe0-f3aa402c09b3",
   "metadata": {},
   "outputs": [],
   "source": [
    "# Opt-in continuous and categorical variables\n",
    "continuous_vars = [\n",
    "    \"Age\",\n",
    "    \"Cholesterol\",\n",
    "    \"Heart Rate\",\n",
    "    # \"Exercise Hours Per Week\",\n",
    "    \"Stress Level\",\n",
    "    \"Sedentary Hours Per Day\",\n",
    "    \"Income\",\n",
    "    \"BMI\",\n",
    "    \"Triglycerides\",\n",
    "    # \"Physical Activity Days Per Week\",\n",
    "    \"Sleep Hours Per Day\",\n",
    "    # \"Systolic\",\n",
    "    # \"Diastolic\",\n",
    "    \"Exercise Total\",\n",
    "    \"Systolic_Diastolic_Ratio\",\n",
    "]\n",
    "\n",
    "categorical_vars = [\n",
    "    \"Diabetes\",\n",
    "    \"Family History\",\n",
    "    \"Obesity\",\n",
    "    \"Alcohol Consumption\",\n",
    "    \"Previous Heart Problems\",\n",
    "    \"Medication Use\",\n",
    "    # \"Cholesterol_sample_split\",\n",
    "    \"Smoking\",\n",
    "    \"Sex\",\n",
    "    \"Continent\",\n",
    "    \"Diet\",\n",
    "    \"Hemisphere\",\n",
    "    # \"Country\",\n",
    "]\n",
    "\n",
    "X_selected = X[continuous_vars + categorical_vars]"
   ]
  },
  {
   "cell_type": "markdown",
   "id": "c7311d44-e72c-4954-b7a3-0415c8e4c08a",
   "metadata": {},
   "source": [
    "### Create preprocessing pipeline and train/test data"
   ]
  },
  {
   "cell_type": "code",
   "execution_count": 97,
   "id": "b5756b3a-47c8-4558-8354-3c4bbc22b9a6",
   "metadata": {},
   "outputs": [],
   "source": [
    "# Define preprocessing steps for continuous and categorical features\n",
    "num_transformer = StandardScaler()\n",
    "cat_transformer = OneHotEncoder(drop=\"first\")\n",
    "\n",
    "preproc_basic = ColumnTransformer(\n",
    "    transformers=[\n",
    "        (\"num\", num_transformer, continuous_vars),\n",
    "        (\"cat\", cat_transformer, categorical_vars),\n",
    "    ],\n",
    "    remainder=\"passthrough\",\n",
    ")\n",
    "\n",
    "# Create pipelines for each classifier\n",
    "logistic_regression_pipe = make_pipeline(\n",
    "    preproc_basic, LogisticRegression(random_state=6)\n",
    ")\n",
    "svm_pipe = make_pipeline(preproc_basic, SVC(random_state=6))\n",
    "xgboost_pipe = make_pipeline(preproc_basic, XGBClassifier(random_state=6))\n",
    "decision_tree_pipe = make_pipeline(\n",
    "    preproc_basic, DecisionTreeClassifier(random_state=6)\n",
    ")\n",
    "\n",
    "# Train-Test split\n",
    "X_train, X_test, y_train, y_test = train_test_split(\n",
    "    X_selected, y, test_size=0.3, random_state=6\n",
    ")"
   ]
  },
  {
   "cell_type": "code",
   "execution_count": 10,
   "id": "168738a1-6a72-43f7-a097-9a04f809d9b6",
   "metadata": {},
   "outputs": [
    {
     "data": {
      "text/html": [
       "<style>#sk-container-id-1 {color: black;background-color: white;}#sk-container-id-1 pre{padding: 0;}#sk-container-id-1 div.sk-toggleable {background-color: white;}#sk-container-id-1 label.sk-toggleable__label {cursor: pointer;display: block;width: 100%;margin-bottom: 0;padding: 0.3em;box-sizing: border-box;text-align: center;}#sk-container-id-1 label.sk-toggleable__label-arrow:before {content: \"▸\";float: left;margin-right: 0.25em;color: #696969;}#sk-container-id-1 label.sk-toggleable__label-arrow:hover:before {color: black;}#sk-container-id-1 div.sk-estimator:hover label.sk-toggleable__label-arrow:before {color: black;}#sk-container-id-1 div.sk-toggleable__content {max-height: 0;max-width: 0;overflow: hidden;text-align: left;background-color: #f0f8ff;}#sk-container-id-1 div.sk-toggleable__content pre {margin: 0.2em;color: black;border-radius: 0.25em;background-color: #f0f8ff;}#sk-container-id-1 input.sk-toggleable__control:checked~div.sk-toggleable__content {max-height: 200px;max-width: 100%;overflow: auto;}#sk-container-id-1 input.sk-toggleable__control:checked~label.sk-toggleable__label-arrow:before {content: \"▾\";}#sk-container-id-1 div.sk-estimator input.sk-toggleable__control:checked~label.sk-toggleable__label {background-color: #d4ebff;}#sk-container-id-1 div.sk-label input.sk-toggleable__control:checked~label.sk-toggleable__label {background-color: #d4ebff;}#sk-container-id-1 input.sk-hidden--visually {border: 0;clip: rect(1px 1px 1px 1px);clip: rect(1px, 1px, 1px, 1px);height: 1px;margin: -1px;overflow: hidden;padding: 0;position: absolute;width: 1px;}#sk-container-id-1 div.sk-estimator {font-family: monospace;background-color: #f0f8ff;border: 1px dotted black;border-radius: 0.25em;box-sizing: border-box;margin-bottom: 0.5em;}#sk-container-id-1 div.sk-estimator:hover {background-color: #d4ebff;}#sk-container-id-1 div.sk-parallel-item::after {content: \"\";width: 100%;border-bottom: 1px solid gray;flex-grow: 1;}#sk-container-id-1 div.sk-label:hover label.sk-toggleable__label {background-color: #d4ebff;}#sk-container-id-1 div.sk-serial::before {content: \"\";position: absolute;border-left: 1px solid gray;box-sizing: border-box;top: 0;bottom: 0;left: 50%;z-index: 0;}#sk-container-id-1 div.sk-serial {display: flex;flex-direction: column;align-items: center;background-color: white;padding-right: 0.2em;padding-left: 0.2em;position: relative;}#sk-container-id-1 div.sk-item {position: relative;z-index: 1;}#sk-container-id-1 div.sk-parallel {display: flex;align-items: stretch;justify-content: center;background-color: white;position: relative;}#sk-container-id-1 div.sk-item::before, #sk-container-id-1 div.sk-parallel-item::before {content: \"\";position: absolute;border-left: 1px solid gray;box-sizing: border-box;top: 0;bottom: 0;left: 50%;z-index: -1;}#sk-container-id-1 div.sk-parallel-item {display: flex;flex-direction: column;z-index: 1;position: relative;background-color: white;}#sk-container-id-1 div.sk-parallel-item:first-child::after {align-self: flex-end;width: 50%;}#sk-container-id-1 div.sk-parallel-item:last-child::after {align-self: flex-start;width: 50%;}#sk-container-id-1 div.sk-parallel-item:only-child::after {width: 0;}#sk-container-id-1 div.sk-dashed-wrapped {border: 1px dashed gray;margin: 0 0.4em 0.5em 0.4em;box-sizing: border-box;padding-bottom: 0.4em;background-color: white;}#sk-container-id-1 div.sk-label label {font-family: monospace;font-weight: bold;display: inline-block;line-height: 1.2em;}#sk-container-id-1 div.sk-label-container {text-align: center;}#sk-container-id-1 div.sk-container {/* jupyter's `normalize.less` sets `[hidden] { display: none; }` but bootstrap.min.css set `[hidden] { display: none !important; }` so we also need the `!important` here to be able to override the default hidden behavior on the sphinx rendered scikit-learn.org. See: https://github.com/scikit-learn/scikit-learn/issues/21755 */display: inline-block !important;position: relative;}#sk-container-id-1 div.sk-text-repr-fallback {display: none;}</style><div id=\"sk-container-id-1\" class=\"sk-top-container\"><div class=\"sk-text-repr-fallback\"><pre>ColumnTransformer(remainder=&#x27;passthrough&#x27;,\n",
       "                  transformers=[(&#x27;num&#x27;, StandardScaler(),\n",
       "                                 [&#x27;Age&#x27;, &#x27;Cholesterol&#x27;, &#x27;Heart Rate&#x27;,\n",
       "                                  &#x27;Exercise Hours Per Week&#x27;, &#x27;Stress Level&#x27;,\n",
       "                                  &#x27;Sedentary Hours Per Day&#x27;, &#x27;Income&#x27;, &#x27;BMI&#x27;,\n",
       "                                  &#x27;Triglycerides&#x27;,\n",
       "                                  &#x27;Physical Activity Days Per Week&#x27;,\n",
       "                                  &#x27;Sleep Hours Per Day&#x27;, &#x27;Systolic&#x27;,\n",
       "                                  &#x27;Diastolic&#x27;, &#x27;Exercise Total&#x27;,\n",
       "                                  &#x27;Systolic_Diastolic_Ratio&#x27;]),\n",
       "                                (&#x27;cat&#x27;, OneHotEncoder(drop=&#x27;first&#x27;),\n",
       "                                 [&#x27;Diabetes&#x27;, &#x27;Family History&#x27;, &#x27;Obesity&#x27;,\n",
       "                                  &#x27;Alcohol Consumption&#x27;,\n",
       "                                  &#x27;Previous Heart Problems&#x27;, &#x27;Medication Use&#x27;,\n",
       "                                  &#x27;Cholesterol_sample_split&#x27;, &#x27;Smoking&#x27;, &#x27;Sex&#x27;,\n",
       "                                  &#x27;Continent&#x27;, &#x27;Diet&#x27;, &#x27;Hemisphere&#x27;,\n",
       "                                  &#x27;Country&#x27;])])</pre><b>In a Jupyter environment, please rerun this cell to show the HTML representation or trust the notebook. <br />On GitHub, the HTML representation is unable to render, please try loading this page with nbviewer.org.</b></div><div class=\"sk-container\" hidden><div class=\"sk-item sk-dashed-wrapped\"><div class=\"sk-label-container\"><div class=\"sk-label sk-toggleable\"><input class=\"sk-toggleable__control sk-hidden--visually\" id=\"sk-estimator-id-1\" type=\"checkbox\" ><label for=\"sk-estimator-id-1\" class=\"sk-toggleable__label sk-toggleable__label-arrow\">ColumnTransformer</label><div class=\"sk-toggleable__content\"><pre>ColumnTransformer(remainder=&#x27;passthrough&#x27;,\n",
       "                  transformers=[(&#x27;num&#x27;, StandardScaler(),\n",
       "                                 [&#x27;Age&#x27;, &#x27;Cholesterol&#x27;, &#x27;Heart Rate&#x27;,\n",
       "                                  &#x27;Exercise Hours Per Week&#x27;, &#x27;Stress Level&#x27;,\n",
       "                                  &#x27;Sedentary Hours Per Day&#x27;, &#x27;Income&#x27;, &#x27;BMI&#x27;,\n",
       "                                  &#x27;Triglycerides&#x27;,\n",
       "                                  &#x27;Physical Activity Days Per Week&#x27;,\n",
       "                                  &#x27;Sleep Hours Per Day&#x27;, &#x27;Systolic&#x27;,\n",
       "                                  &#x27;Diastolic&#x27;, &#x27;Exercise Total&#x27;,\n",
       "                                  &#x27;Systolic_Diastolic_Ratio&#x27;]),\n",
       "                                (&#x27;cat&#x27;, OneHotEncoder(drop=&#x27;first&#x27;),\n",
       "                                 [&#x27;Diabetes&#x27;, &#x27;Family History&#x27;, &#x27;Obesity&#x27;,\n",
       "                                  &#x27;Alcohol Consumption&#x27;,\n",
       "                                  &#x27;Previous Heart Problems&#x27;, &#x27;Medication Use&#x27;,\n",
       "                                  &#x27;Cholesterol_sample_split&#x27;, &#x27;Smoking&#x27;, &#x27;Sex&#x27;,\n",
       "                                  &#x27;Continent&#x27;, &#x27;Diet&#x27;, &#x27;Hemisphere&#x27;,\n",
       "                                  &#x27;Country&#x27;])])</pre></div></div></div><div class=\"sk-parallel\"><div class=\"sk-parallel-item\"><div class=\"sk-item\"><div class=\"sk-label-container\"><div class=\"sk-label sk-toggleable\"><input class=\"sk-toggleable__control sk-hidden--visually\" id=\"sk-estimator-id-2\" type=\"checkbox\" ><label for=\"sk-estimator-id-2\" class=\"sk-toggleable__label sk-toggleable__label-arrow\">num</label><div class=\"sk-toggleable__content\"><pre>[&#x27;Age&#x27;, &#x27;Cholesterol&#x27;, &#x27;Heart Rate&#x27;, &#x27;Exercise Hours Per Week&#x27;, &#x27;Stress Level&#x27;, &#x27;Sedentary Hours Per Day&#x27;, &#x27;Income&#x27;, &#x27;BMI&#x27;, &#x27;Triglycerides&#x27;, &#x27;Physical Activity Days Per Week&#x27;, &#x27;Sleep Hours Per Day&#x27;, &#x27;Systolic&#x27;, &#x27;Diastolic&#x27;, &#x27;Exercise Total&#x27;, &#x27;Systolic_Diastolic_Ratio&#x27;]</pre></div></div></div><div class=\"sk-serial\"><div class=\"sk-item\"><div class=\"sk-estimator sk-toggleable\"><input class=\"sk-toggleable__control sk-hidden--visually\" id=\"sk-estimator-id-3\" type=\"checkbox\" ><label for=\"sk-estimator-id-3\" class=\"sk-toggleable__label sk-toggleable__label-arrow\">StandardScaler</label><div class=\"sk-toggleable__content\"><pre>StandardScaler()</pre></div></div></div></div></div></div><div class=\"sk-parallel-item\"><div class=\"sk-item\"><div class=\"sk-label-container\"><div class=\"sk-label sk-toggleable\"><input class=\"sk-toggleable__control sk-hidden--visually\" id=\"sk-estimator-id-4\" type=\"checkbox\" ><label for=\"sk-estimator-id-4\" class=\"sk-toggleable__label sk-toggleable__label-arrow\">cat</label><div class=\"sk-toggleable__content\"><pre>[&#x27;Diabetes&#x27;, &#x27;Family History&#x27;, &#x27;Obesity&#x27;, &#x27;Alcohol Consumption&#x27;, &#x27;Previous Heart Problems&#x27;, &#x27;Medication Use&#x27;, &#x27;Cholesterol_sample_split&#x27;, &#x27;Smoking&#x27;, &#x27;Sex&#x27;, &#x27;Continent&#x27;, &#x27;Diet&#x27;, &#x27;Hemisphere&#x27;, &#x27;Country&#x27;]</pre></div></div></div><div class=\"sk-serial\"><div class=\"sk-item\"><div class=\"sk-estimator sk-toggleable\"><input class=\"sk-toggleable__control sk-hidden--visually\" id=\"sk-estimator-id-5\" type=\"checkbox\" ><label for=\"sk-estimator-id-5\" class=\"sk-toggleable__label sk-toggleable__label-arrow\">OneHotEncoder</label><div class=\"sk-toggleable__content\"><pre>OneHotEncoder(drop=&#x27;first&#x27;)</pre></div></div></div></div></div></div><div class=\"sk-parallel-item\"><div class=\"sk-item\"><div class=\"sk-label-container\"><div class=\"sk-label sk-toggleable\"><input class=\"sk-toggleable__control sk-hidden--visually\" id=\"sk-estimator-id-6\" type=\"checkbox\" ><label for=\"sk-estimator-id-6\" class=\"sk-toggleable__label sk-toggleable__label-arrow\">remainder</label><div class=\"sk-toggleable__content\"><pre>[]</pre></div></div></div><div class=\"sk-serial\"><div class=\"sk-item\"><div class=\"sk-estimator sk-toggleable\"><input class=\"sk-toggleable__control sk-hidden--visually\" id=\"sk-estimator-id-7\" type=\"checkbox\" ><label for=\"sk-estimator-id-7\" class=\"sk-toggleable__label sk-toggleable__label-arrow\">passthrough</label><div class=\"sk-toggleable__content\"><pre>passthrough</pre></div></div></div></div></div></div></div></div></div></div>"
      ],
      "text/plain": [
       "ColumnTransformer(remainder='passthrough',\n",
       "                  transformers=[('num', StandardScaler(),\n",
       "                                 ['Age', 'Cholesterol', 'Heart Rate',\n",
       "                                  'Exercise Hours Per Week', 'Stress Level',\n",
       "                                  'Sedentary Hours Per Day', 'Income', 'BMI',\n",
       "                                  'Triglycerides',\n",
       "                                  'Physical Activity Days Per Week',\n",
       "                                  'Sleep Hours Per Day', 'Systolic',\n",
       "                                  'Diastolic', 'Exercise Total',\n",
       "                                  'Systolic_Diastolic_Ratio']),\n",
       "                                ('cat', OneHotEncoder(drop='first'),\n",
       "                                 ['Diabetes', 'Family History', 'Obesity',\n",
       "                                  'Alcohol Consumption',\n",
       "                                  'Previous Heart Problems', 'Medication Use',\n",
       "                                  'Cholesterol_sample_split', 'Smoking', 'Sex',\n",
       "                                  'Continent', 'Diet', 'Hemisphere',\n",
       "                                  'Country'])])"
      ]
     },
     "execution_count": 10,
     "metadata": {},
     "output_type": "execute_result"
    }
   ],
   "source": [
    "preproc_basic"
   ]
  },
  {
   "cell_type": "markdown",
   "id": "8b6f5eeb-1781-49bf-8ec7-e0e25a5f1d31",
   "metadata": {},
   "source": [
    "## FIT and EVALUATE pipeline with competing classification models"
   ]
  },
  {
   "cell_type": "code",
   "execution_count": 109,
   "id": "8e54b9f4-1c43-4b38-b04a-880989c99f1f",
   "metadata": {},
   "outputs": [
    {
     "name": "stdout",
     "output_type": "stream",
     "text": [
      "Cross-validated accuracy for Logistic Regression: 0.6421437038974737\n",
      "Cross-validated accuracy for SVM: 0.6423475774958426\n",
      "Cross-validated accuracy for XGBoost: 0.5885486151335663\n",
      "Cross-validated accuracy for Decision Tree: 0.5490079328006046\n"
     ]
    }
   ],
   "source": [
    "pipes = [logistic_regression_pipe, svm_pipe, xgboost_pipe, decision_tree_pipe]\n",
    "\n",
    "for pipe in pipes:\n",
    "    pipe.fit(X_train, y_train)\n",
    "    score = pipe.score(X_test, y_test)\n",
    "\n",
    "# Cross-validate each pipeline\n",
    "for pipe, name in [\n",
    "    (logistic_regression_pipe, \"Logistic Regression\"),\n",
    "    (svm_pipe, \"SVM\"),\n",
    "    (xgboost_pipe, \"XGBoost\"),\n",
    "    (decision_tree_pipe, \"Decision Tree\"),\n",
    "]:\n",
    "    cv_score = cross_val_score(pipe, X_train, y_train, cv=5, scoring=\"accuracy\").mean()\n",
    "    print(f\"Cross-validated accuracy for {name}: {cv_score}\")"
   ]
  },
  {
   "cell_type": "code",
   "execution_count": 26,
   "id": "2106306f-3952-43e6-8b49-8fb8b7bf98ec",
   "metadata": {},
   "outputs": [],
   "source": [
    "# Fit preprocessing on the entire dataset\n",
    "X_preprocessed = preproc_basic.fit_transform(X_selected)\n",
    "\n",
    "# Convert the transformed data to a DataFrame\n",
    "X_train_preprocessed_df = pd.DataFrame(\n",
    "    X_preprocessed,\n",
    "    columns=continuous_vars\n",
    "    + list(\n",
    "        preproc_basic.named_transformers_[\"cat\"].get_feature_names_out(categorical_vars)\n",
    "    ),\n",
    ")"
   ]
  },
  {
   "cell_type": "markdown",
   "id": "7901dc06-b546-48ea-9ca6-535d006fc7c1",
   "metadata": {},
   "source": [
    "### Check features' distribution"
   ]
  },
  {
   "cell_type": "code",
   "execution_count": 27,
   "id": "83f914f9-c46c-48bb-a60d-3eafad565623",
   "metadata": {},
   "outputs": [
    {
     "data": {
      "image/png": "[encoded data removed]",
      "text/plain": [
       "<Figure size 864x576 with 1 Axes>"
      ]
     },
     "metadata": {
      "needs_background": "light"
     },
     "output_type": "display_data"
    }
   ],
   "source": [
    "# Select only the continuous variables\n",
    "number_of_features = len(continuous_vars)\n",
    "continuous_data = X_train_preprocessed_df.iloc[:, :number_of_features]\n",
    "continuous_df = pd.DataFrame(continuous_data, columns=continuous_vars)\n",
    "\n",
    "# Plot KDE for each continuous variable\n",
    "plt.figure(figsize=(12, 8))\n",
    "for column in continuous_df.columns:\n",
    "    sns.kdeplot(continuous_df[column], label=column, shade=True)\n",
    "\n",
    "plt.title(\"Kernel Density Estimation Plot of Continuous Variables\")\n",
    "plt.xlabel(\"Value\")\n",
    "plt.ylabel(\"Density\")\n",
    "plt.legend()\n",
    "plt.show()"
   ]
  },
  {
   "cell_type": "markdown",
   "id": "c5f1c27f-9b56-4987-a576-2dba99112327",
   "metadata": {},
   "source": [
    "Because of the one-hot-encoding all categorical features now take 2 values (0 or 1), so I will stack them accordingly."
   ]
  },
  {
   "cell_type": "code",
   "execution_count": 17,
   "id": "5021eecb-42c6-4c63-8b3e-fcbfcdf172c3",
   "metadata": {},
   "outputs": [
    {
     "data": {
      "image/png": "[encoded data removed]",
      "text/plain": [
       "<Figure size 864x576 with 1 Axes>"
      ]
     },
     "metadata": {
      "needs_background": "light"
     },
     "output_type": "display_data"
    }
   ],
   "source": [
    "# Select categorical features\n",
    "continuous_feature_count = len(continuous_vars)\n",
    "categorical_data = X_train_preprocessed_df.iloc[:, continuous_feature_count:]\n",
    "\n",
    "categorical_df = pd.DataFrame(categorical_data)\n",
    "\n",
    "# Aggregate counts for the plot\n",
    "proportions_df = categorical_df.apply(lambda x: x.value_counts(normalize=True)).T\n",
    "\n",
    "# Plot stacked bar chart\n",
    "proportions_df.plot(kind=\"bar\", stacked=True, figsize=(12, 8))\n",
    "\n",
    "plt.title(\"Stacked Bar Chart of Categorical Variables\")\n",
    "plt.xlabel(\"Categorical Feature\")\n",
    "plt.ylabel(\"Proportion\")\n",
    "plt.legend(title=\"Category\")\n",
    "plt.show()"
   ]
  },
  {
   "cell_type": "markdown",
   "id": "345781d6-d62c-4333-8e16-e1cd521c2440",
   "metadata": {},
   "source": [
    "## PREDICT"
   ]
  },
  {
   "cell_type": "code",
   "execution_count": 106,
   "id": "531b468f-6a77-4220-98bc-2097347badd6",
   "metadata": {},
   "outputs": [],
   "source": [
    "df_kaggle_test = pd.read_csv(\"data/test.csv\")  # read in test data provided by Kaggle"
   ]
  },
  {
   "cell_type": "code",
   "execution_count": 107,
   "id": "bc8d1e43-dc0b-488b-96ae-a975e763a38f",
   "metadata": {},
   "outputs": [],
   "source": [
    "# preprocess Kaggle data\n",
    "df_kaggle_test = df_kaggle_test.copy()\n",
    "\n",
    "split_blood_pressure(df=df_kaggle_test)\n",
    "split_cholesterol_sample(df=df_kaggle_test)\n",
    "exercise_total(df=df_kaggle_test)\n",
    "systolic_diastolic_ratio_constructor(df=df_kaggle_test)\n",
    "\n",
    "X_df_kaggle_test_selected = df_kaggle_test[continuous_vars + categorical_vars]"
   ]
  },
  {
   "cell_type": "code",
   "execution_count": 108,
   "id": "51076eb4-fe67-424b-9a59-35ea1338f7cd",
   "metadata": {},
   "outputs": [
    {
     "data": {
      "text/plain": [
       "array([0, 0, 0, ..., 0, 0, 0])"
      ]
     },
     "execution_count": 108,
     "metadata": {},
     "output_type": "execute_result"
    }
   ],
   "source": [
    "# Define preprocessing steps for continuous and categorical features\n",
    "num_transformer = StandardScaler()\n",
    "cat_transformer = OneHotEncoder(drop=\"first\")\n",
    "\n",
    "# Create preprocessing pipeline\n",
    "preproc_basic = ColumnTransformer(\n",
    "    transformers=[\n",
    "        (\"num\", num_transformer, continuous_vars),\n",
    "        (\"cat\", cat_transformer, categorical_vars),\n",
    "    ],\n",
    "    remainder=\"passthrough\",\n",
    ")\n",
    "\n",
    "# Create SVM pipeline\n",
    "svm_pipe = Pipeline(\n",
    "    [(\"preprocessor\", preproc_basic), (\"classifier\", SVC(random_state=6))]\n",
    ")\n",
    "\n",
    "# Train the SVM model on the entire preprocessed training dataset\n",
    "svm_pipe.fit(X_selected, y)\n",
    "\n",
    "# Make predictions on the df_kaggle_test data\n",
    "kaggle_test_predictions_V2 = svm_pipe.predict(X_df_kaggle_test_selected)\n",
    "kaggle_test_predictions_V2"
   ]
  },
  {
   "cell_type": "markdown",
   "id": "f7e4ee7c-da9f-4d99-9326-1328b8e38d23",
   "metadata": {},
   "source": [
    "### Prepare submission"
   ]
  },
  {
   "cell_type": "code",
   "execution_count": 80,
   "id": "294fd313-1b1e-459b-9b8f-d86a7ab25f55",
   "metadata": {},
   "outputs": [
    {
     "data": {
      "text/html": [
       "<div>\n",
       "<style scoped>\n",
       "    .dataframe tbody tr th:only-of-type {\n",
       "        vertical-align: middle;\n",
       "    }\n",
       "\n",
       "    .dataframe tbody tr th {\n",
       "        vertical-align: top;\n",
       "    }\n",
       "\n",
       "    .dataframe thead th {\n",
       "        text-align: right;\n",
       "    }\n",
       "</style>\n",
       "<table border=\"1\" class=\"dataframe\">\n",
       "  <thead>\n",
       "    <tr style=\"text-align: right;\">\n",
       "      <th></th>\n",
       "      <th>Patient ID</th>\n",
       "      <th>Heart Attack Risk</th>\n",
       "    </tr>\n",
       "  </thead>\n",
       "  <tbody>\n",
       "    <tr>\n",
       "      <th>0</th>\n",
       "      <td>BMW7812</td>\n",
       "      <td>0</td>\n",
       "    </tr>\n",
       "    <tr>\n",
       "      <th>1</th>\n",
       "      <td>XXM0972</td>\n",
       "      <td>0</td>\n",
       "    </tr>\n",
       "    <tr>\n",
       "      <th>2</th>\n",
       "      <td>RQX1211</td>\n",
       "      <td>0</td>\n",
       "    </tr>\n",
       "    <tr>\n",
       "      <th>3</th>\n",
       "      <td>RVN4963</td>\n",
       "      <td>0</td>\n",
       "    </tr>\n",
       "    <tr>\n",
       "      <th>4</th>\n",
       "      <td>NCU1956</td>\n",
       "      <td>0</td>\n",
       "    </tr>\n",
       "    <tr>\n",
       "      <th>...</th>\n",
       "      <td>...</td>\n",
       "      <td>...</td>\n",
       "    </tr>\n",
       "    <tr>\n",
       "      <th>1748</th>\n",
       "      <td>GQZ5013</td>\n",
       "      <td>0</td>\n",
       "    </tr>\n",
       "    <tr>\n",
       "      <th>1749</th>\n",
       "      <td>FDK8693</td>\n",
       "      <td>0</td>\n",
       "    </tr>\n",
       "    <tr>\n",
       "      <th>1750</th>\n",
       "      <td>SVO4635</td>\n",
       "      <td>0</td>\n",
       "    </tr>\n",
       "    <tr>\n",
       "      <th>1751</th>\n",
       "      <td>KQR8949</td>\n",
       "      <td>0</td>\n",
       "    </tr>\n",
       "    <tr>\n",
       "      <th>1752</th>\n",
       "      <td>XKA5925</td>\n",
       "      <td>0</td>\n",
       "    </tr>\n",
       "  </tbody>\n",
       "</table>\n",
       "<p>1753 rows × 2 columns</p>\n",
       "</div>"
      ],
      "text/plain": [
       "     Patient ID  Heart Attack Risk\n",
       "0       BMW7812                  0\n",
       "1       XXM0972                  0\n",
       "2       RQX1211                  0\n",
       "3       RVN4963                  0\n",
       "4       NCU1956                  0\n",
       "...         ...                ...\n",
       "1748    GQZ5013                  0\n",
       "1749    FDK8693                  0\n",
       "1750    SVO4635                  0\n",
       "1751    KQR8949                  0\n",
       "1752    XKA5925                  0\n",
       "\n",
       "[1753 rows x 2 columns]"
      ]
     },
     "execution_count": 80,
     "metadata": {},
     "output_type": "execute_result"
    }
   ],
   "source": [
    "df_kaggle_predicted_V2 = {\n",
    "    \"Patient ID\": df_kaggle_test[\"Patient ID\"],\n",
    "    \"Heart Attack Risk\": kaggle_test_predictions_V2,\n",
    "}\n",
    "# predict_df = pd.DataFrame(df_kaggle_preprocessed.index, kaggle_test_predictions)\n",
    "df_kaggle_predicted_V2 = pd.DataFrame(df_kaggle_predicted_V2)\n",
    "df_kaggle_predicted_V2"
   ]
  },
  {
   "cell_type": "code",
   "execution_count": 81,
   "id": "abdbf7dd-5556-4a8a-bae0-23978cc2060a",
   "metadata": {},
   "outputs": [],
   "source": [
    "df_kaggle_predicted_V2.to_csv(\"submission/df_kaggle_predicted_V2.csv\", index=False)"
   ]
  },
  {
   "cell_type": "markdown",
   "id": "c1e87489-c306-4a8e-b5a2-1199c9b3f431",
   "metadata": {},
   "source": [
    "## Evaluation on Kaggle"
   ]
  },
  {
   "cell_type": "markdown",
   "id": "e2666465-6204-4271-85ea-6320ac14543c",
   "metadata": {},
   "source": [
    "And this fired me to place 46!"
   ]
  },
  {
   "cell_type": "markdown",
   "id": "45cb09d2-2a3c-4c44-8ef9-b24e5e7f4731",
   "metadata": {},
   "source": [
    "![second submission](submission/second_submission.png)"
   ]
  }
 ],
 "metadata": {
  "kernelspec": {
   "display_name": "Python 3 (ipykernel)",
   "language": "python",
   "name": "python3"
  },
  "language_info": {
   "codemirror_mode": {
    "name": "ipython",
    "version": 3
   },
   "file_extension": ".py",
   "mimetype": "text/x-python",
   "name": "python",
   "nbconvert_exporter": "python",
   "pygments_lexer": "ipython3",
   "version": "3.10.12"
  }
 },
 "nbformat": 4,
 "nbformat_minor": 5
}
