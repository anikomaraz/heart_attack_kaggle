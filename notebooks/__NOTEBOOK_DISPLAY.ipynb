{
 "cells": [
  {
   "cell_type": "markdown",
   "id": "2f5219f6-97da-44e0-84f0-0bbf1fbba6e0",
   "metadata": {},
   "source": [
    "# NOTEBOOKS NOT DISPLAYING?"
   ]
  },
  {
   "cell_type": "markdown",
   "id": "21cdbaf1-619e-4f79-8858-e3737055c30f",
   "metadata": {},
   "source": [
    "<div class=\"alert alert-block alert-info\">\n",
    "Some notebooks might not display in a readable format on GitHub. If this happens, please use the following links to render: \n",
    "    \n",
    "- [heart_attack_v1.ipynb](https://nbviewer.org/github/anikomaraz/heart_attack_kaggle/blob/main/notebooks/heart_attack_v1.ipynb)\n",
    "- [heart_attack_v2.ipynb](https://nbviewer.org/github/anikomaraz/heart_attack_kaggle/blob/main/notebooks/heart_attack_v2.ipynb)\n",
    "- [heart_attack_v3_clean_KaggleV1.ipynb](https://nbviewer.org/github/anikomaraz/heart_attack_kaggle/blob/main/notebooks/heart_attack_v3_clean_KaggleV1.ipynb)\n",
    "- [heart_attack_v4.ipynb](https://nbviewer.org/github/anikomaraz/heart_attack_kaggle/blob/main/notebooks/heart_attack_v4.ipynb)\n",
    "- [heart_attack_v4_dirty.ipynb](https://nbviewer.org/github/anikomaraz/heart_attack_kaggle/blob/main/notebooks/heart_attack_v4_dirty.ipynb)\n",
    "- [heart_attack_v5_prob.ipynb](https://nbviewer.org/github/anikomaraz/heart_attack_kaggle/blob/main/notebooks/heart_attack_v5_prob.ipynb)\n",
    "- [heart_attack_v5_probability.ipynb](https://nbviewer.org/github/anikomaraz/heart_attack_kaggle/blob/main/notebooks/heart_attack_v5_probability.ipynb)\n",
    "- [heart_attack_v5_probability_logreg.ipynb](https://nbviewer.org/github/anikomaraz/heart_attack_kaggle/blob/main/notebooks/heart_attack_v5_probability_logreg.ipynb)\n",
    "- [heart_attack_v5_probability_xgboost.ipynb](https://nbviewer.org/github/anikomaraz/heart_attack_kaggle/blob/main/notebooks/heart_attack_v5_probability_xgboost.ipynb)\n",
    "- [heart_attack_v5_probability_xgboost_KaggleV2.ipynb](https://nbviewer.org/github/anikomaraz/heart_attack_kaggle/blob/main/notebooks/heart_attack_v5_probability_xgboost_KaggleV2.ipynb)\n",
    "\n",
    "And for the report:\n",
    "\n",
    "- [report_heart_attack.html](https://nbviewer.org/github/anikomaraz/heart_attack_kaggle/blob/main/notebooks/report_heart_attack.html)\n",
    "</div>\n"
   ]
  },
  {
   "cell_type": "code",
   "execution_count": null,
   "id": "636685ca-3694-4776-81d9-a11261316e0d",
   "metadata": {},
   "outputs": [],
   "source": []
  }
 ],
 "metadata": {
  "kernelspec": {
   "display_name": "Python 3 (ipykernel)",
   "language": "python",
   "name": "python3"
  },
  "language_info": {
   "codemirror_mode": {
    "name": "ipython",
    "version": 3
   },
   "file_extension": ".py",
   "mimetype": "text/x-python",
   "name": "python",
   "nbconvert_exporter": "python",
   "pygments_lexer": "ipython3",
   "version": "3.10.12"
  }
 },
 "nbformat": 4,
 "nbformat_minor": 5
}
