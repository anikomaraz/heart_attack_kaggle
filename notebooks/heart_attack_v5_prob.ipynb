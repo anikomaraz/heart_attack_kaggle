{
 "cells": [
  {
   "cell_type": "markdown",
   "id": "d045ce3f-ff38-4a72-8f92-1e8f2aeeaba9",
   "metadata": {},
   "source": [
    "# Heart Attack - Kaggle competition V 5.0  \n",
    "## XGBoost with probability estimation, optimised for precision\n",
    "### Author: Aniko Maraz, PhD"
   ]
  },
  {
   "cell_type": "markdown",
   "id": "c6d6b785-434c-4206-aeb1-85d49aa44fb8",
   "metadata": {},
   "source": [
    "Note: This is the final version of the improved model, currently running in production: https://fake-heart-attack.streamlit.app/\n",
    "This version is optimised for **precision** (not accuracy as required on Kaggle). "
   ]
  },
  {
   "cell_type": "markdown",
   "id": "e456708f-dd02-4105-b5c6-1c6bd1577d3c",
   "metadata": {},
   "source": [
    "Further info and versions in my Git Repo: https://github.com/anikomaraz/heart_attack_kaggle"
   ]
  },
  {
   "cell_type": "markdown",
   "id": "e33333df-027a-458d-91b6-7db689336709",
   "metadata": {},
   "source": [
    "# Imports"
   ]
  },
  {
   "cell_type": "code",
   "execution_count": null,
   "id": "d1fd1349-01b7-42d6-afa1-f3c5ef9bd514",
   "metadata": {},
   "outputs": [],
   "source": [
    "import sys\n",
    "import numpy as np\n",
    "import pandas as pd\n",
    "\n",
    "from sklearn.linear_model import LogisticRegression\n",
    "from sklearn.svm import SVC\n",
    "\n",
    "from sklearn.pipeline import make_pipeline, Pipeline\n",
    "from sklearn.compose import ColumnTransformer\n",
    "from sklearn.preprocessing import (\n",
    "    StandardScaler,\n",
    "    MinMaxScaler,\n",
    "    RobustScaler,\n",
    "    OneHotEncoder,\n",
    ")\n",
    "\n",
    "from sklearn.metrics import accuracy_score, classification_report\n",
    "\n",
    "from sklearn.model_selection import train_test_split, GridSearchCV, cross_val_score\n",
    "\n",
    "import jupyter_black\n",
    "\n",
    "%load_ext jupyter_black"
   ]
  },
  {
   "cell_type": "markdown",
   "id": "276b2616-6f8f-4290-b126-b25611fed6c7",
   "metadata": {},
   "source": [
    "## DATA: GET AND EXPLORE"
   ]
  },
  {
   "cell_type": "code",
   "execution_count": null,
   "id": "b4a2ead3-dd9a-4577-87e4-60a719043a94",
   "metadata": {},
   "outputs": [],
   "source": [
    "df_raw_train = pd.read_csv(\"../data/train.csv\")"
   ]
  },
  {
   "cell_type": "markdown",
   "id": "0c5f8dcd-f495-4068-a085-a9ace1980232",
   "metadata": {},
   "source": [
    "## PREPROCESSING PIPELINE"
   ]
  },
  {
   "cell_type": "code",
   "execution_count": null,
   "id": "6b375a8f-c155-4787-bde3-88b2c004e121",
   "metadata": {},
   "outputs": [],
   "source": [
    "# def function to split blood pressure data (current format: 129/90)\n",
    "def split_blood_pressure(df):\n",
    "    df[[\"Systolic\", \"Diastolic\"]] = df[\"Blood Pressure\"].str.split(\"/\", expand=True)\n",
    "    df[\"Systolic\"] = pd.to_numeric(df[\"Systolic\"])\n",
    "    df[\"Diastolic\"] = pd.to_numeric(df[\"Diastolic\"])\n",
    "    df.drop(columns=[\"Blood Pressure\"], inplace=True)\n",
    "\n",
    "\n",
    "# split cholesterol according to sample mean\n",
    "cholesterol_sample_mean = df_raw_train[\"Cholesterol\"].mean()\n",
    "\n",
    "\n",
    "def split_cholesterol_sample(df):\n",
    "    df[\"Cholesterol_sample_split\"] = np.where(\n",
    "        df[\"Cholesterol\"] > cholesterol_sample_mean, 1, 0\n",
    "    )\n",
    "\n",
    "\n",
    "# create the new variables\n",
    "df = df_raw_train.copy()\n",
    "\n",
    "split_blood_pressure(df=df)\n",
    "split_cholesterol_sample(df=df)"
   ]
  },
  {
   "cell_type": "markdown",
   "id": "2d03d2b3-77f8-444a-9233-7f24d4dcbefb",
   "metadata": {},
   "source": [
    "### Define features"
   ]
  },
  {
   "cell_type": "code",
   "execution_count": null,
   "id": "253fe655-d68d-4c9c-b3fa-461e811b0b9b",
   "metadata": {},
   "outputs": [],
   "source": [
    "# Defining the features and the target\n",
    "X = df.drop(columns=\"Heart Attack Risk\")\n",
    "y = df[\"Heart Attack Risk\"]\n",
    "\n",
    "# Opt-in continuous and categorical variables\n",
    "continuous_vars = [\n",
    "    \"Age\",\n",
    "    \"Heart Rate\",\n",
    "    \"Exercise Hours Per Week\",\n",
    "    \"Stress Level\",\n",
    "    \"Sedentary Hours Per Day\",\n",
    "    \"Income\",\n",
    "    \"BMI\",\n",
    "    \"Triglycerides\",\n",
    "    \"Physical Activity Days Per Week\",\n",
    "    \"Sleep Hours Per Day\",\n",
    "    \"Systolic\",\n",
    "    \"Diastolic\",\n",
    "]\n",
    "\n",
    "categorical_vars = [\n",
    "    \"Diabetes\",\n",
    "    \"Family History\",\n",
    "    \"Obesity\",\n",
    "    \"Alcohol Consumption\",\n",
    "    \"Previous Heart Problems\",\n",
    "    \"Medication Use\",\n",
    "    \"Cholesterol_sample_split\",\n",
    "    \"Sex\",\n",
    "    \"Continent\",\n",
    "    \"Diet\",\n",
    "    \"Hemisphere\",\n",
    "]\n",
    "\n",
    "X_selected = X[continuous_vars + categorical_vars]"
   ]
  },
  {
   "cell_type": "markdown",
   "id": "d566f809-d27b-4e7f-acf3-b15d10cb4b2d",
   "metadata": {},
   "source": [
    "### Create preprocessing pipeline and train/test data"
   ]
  },
  {
   "cell_type": "code",
   "execution_count": null,
   "id": "eb1e9063-4545-407e-8046-87b9ded6d5bc",
   "metadata": {},
   "outputs": [],
   "source": [
    "# Define preprocessing steps for continuous and categorical features\n",
    "num_transformer = MinMaxScaler()\n",
    "cat_transformer = OneHotEncoder(drop=\"first\")\n",
    "\n",
    "preproc_basic = ColumnTransformer(\n",
    "    transformers=[\n",
    "        (\"num\", num_transformer, continuous_vars),\n",
    "        (\"cat\", cat_transformer, categorical_vars),\n",
    "    ],\n",
    "    remainder=\"passthrough\",\n",
    ")\n",
    "\n",
    "# Create pipelines for SVC\n",
    "svm_pipe = make_pipeline(\n",
    "    preproc_basic, SVC(class_weight=\"balanced\", random_state=6, probability=True)\n",
    ")\n",
    "\n",
    "# Train-Test split\n",
    "X_train, X_test, y_train, y_test = train_test_split(\n",
    "    X_selected, y, test_size=0.3, random_state=6\n",
    ")"
   ]
  },
  {
   "cell_type": "markdown",
   "id": "0451c022-b32f-4916-b6b9-14ad3791335b",
   "metadata": {},
   "source": [
    "## TRAIN AND TUNE THRESHOLD FOR PRECISION"
   ]
  },
  {
   "cell_type": "code",
   "execution_count": null,
   "id": "61c210c5-c974-4bd0-b8be-5eef0f24c236",
   "metadata": {},
   "outputs": [],
   "source": [
    "# Fit the pipeline\n",
    "xgb_pipe.fit(X_train, y_train)\n",
    "\n",
    "# Get predicted probabilities for the training set\n",
    "train_probs = xgb_pipe.predict_proba(X_train)[:, 1]\n",
    "\n",
    "# Evaluate thresholds\n",
    "thresholds = np.linspace(0.4, 0.6, 50)  # Adjust the range to focus on more balanced thresholds\n",
    "best_threshold = None\n",
    "best_precision = 0.0\n",
    "\n",
    "for threshold in thresholds:\n",
    "    # Convert probabilities to binary predictions based on the threshold\n",
    "    train_predictions = (train_probs > threshold).astype(int)\n",
    "\n",
    "    # Evaluate precision\n",
    "    precision = precision_score(y_train, train_predictions)\n",
    "\n",
    "    # Check if this threshold gives better precision\n",
    "    if precision > best_precision:\n",
    "        best_precision = precision\n",
    "        best_threshold = threshold\n",
    "\n",
    "# Print the best threshold found\n",
    "print(f\"Best threshold: {best_threshold} with precision score: {best_precision}\")"
   ]
  },
  {
   "cell_type": "markdown",
   "id": "11622b45-bff9-4d95-9f24-4dd13020b374",
   "metadata": {},
   "source": [
    "## APPLY THE BEST THRESHOLD TO THE TEST SET"
   ]
  },
  {
   "cell_type": "code",
   "execution_count": null,
   "id": "8c46e601-42a5-4313-a0f1-6e44a4fd803a",
   "metadata": {},
   "outputs": [],
   "source": [
    "# Predict probabilities for the test set\n",
    "test_probs = xgb_pipe.predict_proba(X_test)[:, 1]\n",
    "test_predictions = (test_probs > best_threshold).astype(int)\n",
    "\n",
    "# Evaluate precision on the test set with the tuned threshold\n",
    "test_precision = precision_score(y_test, test_predictions)\n",
    "print(f\"Test set precision with tuned threshold: {test_precision}\")"
   ]
  },
  {
   "cell_type": "markdown",
   "id": "b012b145-153f-4089-81cb-48a4ee148081",
   "metadata": {},
   "source": [
    "## PREDICT ON KAGGLE TEST SET AND SAVE SUBMISSION"
   ]
  },
  {
   "cell_type": "code",
   "execution_count": null,
   "id": "a193fb97-0005-4736-80d8-4c5a8ae3a84c",
   "metadata": {},
   "outputs": [],
   "source": [
    "# Predict probabilities for the Kaggle test set\n",
    "kaggle_test_probs = xgb_pipe.predict_proba(X_df_kaggle_test_selected)[:, 1]\n",
    "\n",
    "# Apply the best threshold to Kaggle test set predictions\n",
    "kaggle_test_predictions = (kaggle_test_probs > best_threshold).astype(int)"
   ]
  },
  {
   "cell_type": "code",
   "execution_count": null,
   "id": "5e678815-94a1-430d-af28-55c42a93dea4",
   "metadata": {},
   "outputs": [
    {
     "name": "stdout",
     "output_type": "stream",
     "text": [
      "Best threshold: 0.5306122448979592 with precision score: 0.9994206257242179\n",
      "Test set precision with tuned threshold: 0.3554987212276215\n"
     ]
    },
    {
     "data": {
      "text/plain": [
       "1753"
      ]
     },
     "execution_count": 15,
     "metadata": {},
     "output_type": "execute_result"
    }
   ],
   "source": [
    "# Prepare submission dataframe\n",
    "df_kaggle_test = pd.read_csv(\"../data/test.csv\")\n",
    "df_kaggle_predicted_V5 = {\n",
    "    \"Patient ID\": df_kaggle_test[\"Patient ID\"],\n",
    "    \"Heart Attack Risk\": kaggle_test_predictions,\n",
    "}\n",
    "df_kaggle_predicted_V5_xgb_precision = pd.DataFrame(df_kaggle_predicted_V5)\n",
    "\n",
    "# Save submission to CSV\n",
    "df_kaggle_predicted_V5_xgb_precision.to_csv(\n",
    "    \"../submission/df_kaggle_predicted_V5_xgb_precision.csv\", index=False\n",
    ")\n",
    "\n",
    "# Number of cases in the unseen Kaggle test set\n",
    "len(df_kaggle_test)"
   ]
  },
  {
   "cell_type": "code",
   "execution_count": 16,
   "id": "caf46c41-025e-4bc0-8787-8448bada624e",
   "metadata": {},
   "outputs": [
    {
     "data": {
      "text/plain": [
       "339"
      ]
     },
     "execution_count": 16,
     "metadata": {},
     "output_type": "execute_result"
    }
   ],
   "source": [
    "sum(kaggle_test_predictions)"
   ]
  },
  {
   "cell_type": "code",
   "execution_count": null,
   "id": "ddc91192-83e3-4853-a7e2-c3b60324ceb8",
   "metadata": {},
   "outputs": [],
   "source": []
  }
 ],
 "metadata": {
  "kernelspec": {
   "display_name": "Python 3 (ipykernel)",
   "language": "python",
   "name": "python3"
  },
  "language_info": {
   "codemirror_mode": {
    "name": "ipython",
    "version": 3
   },
   "file_extension": ".py",
   "mimetype": "text/x-python",
   "name": "python",
   "nbconvert_exporter": "python",
   "pygments_lexer": "ipython3",
   "version": "3.10.12"
  }
 },
 "nbformat": 4,
 "nbformat_minor": 5
}
