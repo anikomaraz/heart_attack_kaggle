{
 "cells": [
  {
   "cell_type": "markdown",
   "id": "5aaf4c74-823e-47fa-93ce-4517c1d2dd7e",
   "metadata": {},
   "source": [
    "# Heart Attack - Kaggle competition  V 4.0"
   ]
  },
  {
   "cell_type": "markdown",
   "id": "1a7c21bb-624f-4731-9018-82bad7308b3d",
   "metadata": {},
   "source": [
    "Author: _Aniko Maraz, PhD_\n",
    "\n",
    "<div class=\"alert alert-block alert-info\">\n",
    "    \n",
    "This is an <a href=\"https://www.kaggle.com/competitions/heart-attack-risk-analysis/overview\">active Kaggle competition</a>  for Kudos. \n",
    "The task is to predict (on an unseen dataset) if the patient is at low or high risk of heart attack.  <br>\n",
    "\n",
    "This notebook is the <b>final, clean version</b> of the attempts to train an accurate ML model for prediction (see Versions 1-3). This notebook contains the fine-tuned model, while data exploration (i.e. visualisations) are omitted. \n",
    "</div>"
   ]
  },
  {
   "cell_type": "markdown",
   "id": "a4fe1aed-11b9-4b2e-98cf-10d801c72b54",
   "metadata": {},
   "source": [
    "## Imports"
   ]
  },
  {
   "cell_type": "code",
   "execution_count": 1,
   "id": "bfd683c3-35b6-427e-a605-1bbcbac5bfa6",
   "metadata": {},
   "outputs": [
    {
     "data": {
      "text/html": [
       "\n",
       "                <script type=\"application/javascript\" id=\"jupyter_black\">\n",
       "                (function() {\n",
       "                    if (window.IPython === undefined) {\n",
       "                        return\n",
       "                    }\n",
       "                    var msg = \"WARNING: it looks like you might have loaded \" +\n",
       "                        \"jupyter_black in a non-lab notebook with \" +\n",
       "                        \"`is_lab=True`. Please double check, and if \" +\n",
       "                        \"loading with `%load_ext` please review the README!\"\n",
       "                    console.log(msg)\n",
       "                    alert(msg)\n",
       "                })()\n",
       "                </script>\n",
       "                "
      ],
      "text/plain": [
       "<IPython.core.display.HTML object>"
      ]
     },
     "metadata": {},
     "output_type": "display_data"
    }
   ],
   "source": [
    "import numpy as np\n",
    "import pandas as pd\n",
    "\n",
    "from sklearn.linear_model import LogisticRegression\n",
    "from sklearn.svm import SVC\n",
    "\n",
    "from sklearn.pipeline import make_pipeline, Pipeline\n",
    "from sklearn.compose import ColumnTransformer\n",
    "from sklearn.preprocessing import (\n",
    "    StandardScaler,\n",
    "    MinMaxScaler,\n",
    "    RobustScaler,\n",
    "    OneHotEncoder,\n",
    ")\n",
    "\n",
    "from sklearn.metrics import accuracy_score, classification_report\n",
    "\n",
    "from sklearn.model_selection import train_test_split, GridSearchCV, cross_val_score\n",
    "\n",
    "import jupyter_black\n",
    "\n",
    "%load_ext jupyter_black"
   ]
  },
  {
   "cell_type": "markdown",
   "id": "99b2bb16-dcb8-4e38-9563-0ee20ba91aff",
   "metadata": {},
   "source": [
    "## DATA: GET AND EXPLORE"
   ]
  },
  {
   "cell_type": "code",
   "execution_count": 2,
   "id": "579143b6-0641-433d-9c87-50e0c9a26ea2",
   "metadata": {},
   "outputs": [],
   "source": [
    "df_raw_train = pd.read_csv(\"data/train.csv\")"
   ]
  },
  {
   "cell_type": "markdown",
   "id": "4eb9aa5b-971f-4b43-aa03-18b909c334e9",
   "metadata": {},
   "source": [
    "## PREPROCESSING PIPELINE"
   ]
  },
  {
   "cell_type": "code",
   "execution_count": 3,
   "id": "6081984b-bd4d-477e-96b9-cfa1ada41c37",
   "metadata": {},
   "outputs": [],
   "source": [
    "# def function to split blood pressure data (current format: 129/90)\n",
    "def split_blood_pressure(df):\n",
    "    df[[\"Systolic\", \"Diastolic\"]] = df[\"Blood Pressure\"].str.split(\"/\", expand=True)\n",
    "    df[\"Systolic\"] = pd.to_numeric(df[\"Systolic\"])\n",
    "    df[\"Diastolic\"] = pd.to_numeric(df[\"Diastolic\"])\n",
    "    df.drop(columns=[\"Blood Pressure\"], inplace=True)\n",
    "\n",
    "\n",
    "# split cholesterol according to sample mean\n",
    "cholesterol_sample_mean = df_raw_train[\"Cholesterol\"].mean()\n",
    "\n",
    "\n",
    "def split_cholesterol_sample(df):\n",
    "    df[\"Cholesterol_sample_split\"] = np.where(\n",
    "        df[\"Cholesterol\"] > cholesterol_sample_mean, 1, 0\n",
    "    )\n",
    "\n",
    "\n",
    "# create the new variables\n",
    "df = df_raw_train.copy()\n",
    "\n",
    "split_blood_pressure(df=df)\n",
    "split_cholesterol_sample(df=df)"
   ]
  },
  {
   "cell_type": "markdown",
   "id": "f820f3da-8c04-4ad8-a3e1-944fab83e239",
   "metadata": {},
   "source": [
    "### Define features"
   ]
  },
  {
   "cell_type": "code",
   "execution_count": 4,
   "id": "10fed5ef-f523-4fed-9f05-493abd54c70b",
   "metadata": {},
   "outputs": [],
   "source": [
    "# Defining the features and the target\n",
    "X = df.drop(columns=\"Heart Attack Risk\")\n",
    "y = df[\"Heart Attack Risk\"]\n",
    "\n",
    "# Opt-in continuous and categorical variables\n",
    "continuous_vars = [\n",
    "    \"Age\",\n",
    "    # \"Cholesterol\",\n",
    "    \"Heart Rate\",\n",
    "    \"Exercise Hours Per Week\",\n",
    "    \"Stress Level\",\n",
    "    \"Sedentary Hours Per Day\",\n",
    "    \"Income\",\n",
    "    \"BMI\",\n",
    "    \"Triglycerides\",\n",
    "    \"Physical Activity Days Per Week\",\n",
    "    \"Sleep Hours Per Day\",\n",
    "    \"Systolic\",\n",
    "    \"Diastolic\",\n",
    "    # \"Exercise Total\",\n",
    "    # \"Systolic_Diastolic_Ratio\",\n",
    "]\n",
    "\n",
    "categorical_vars = [\n",
    "    \"Diabetes\",\n",
    "    \"Family History\",\n",
    "    \"Obesity\",\n",
    "    \"Alcohol Consumption\",\n",
    "    \"Previous Heart Problems\",\n",
    "    \"Medication Use\",\n",
    "    \"Cholesterol_sample_split\",\n",
    "    # \"Smoking\",\n",
    "    \"Sex\",\n",
    "    \"Continent\",\n",
    "    \"Diet\",\n",
    "    \"Hemisphere\",\n",
    "    # \"Country\",\n",
    "]\n",
    "\n",
    "X_selected = X[continuous_vars + categorical_vars]"
   ]
  },
  {
   "cell_type": "markdown",
   "id": "610f9613-5ec2-4496-a882-430ebb913658",
   "metadata": {},
   "source": [
    "### Create preprocessing pipeline and train/test data"
   ]
  },
  {
   "cell_type": "code",
   "execution_count": 5,
   "id": "77c04f45-8af6-4937-8fd7-9f2f50358482",
   "metadata": {},
   "outputs": [],
   "source": [
    "# Define preprocessing steps for continuous and categorical features\n",
    "num_transformer = MinMaxScaler()\n",
    "cat_transformer = OneHotEncoder(drop=\"first\")\n",
    "\n",
    "preproc_basic = ColumnTransformer(\n",
    "    transformers=[\n",
    "        (\"num\", num_transformer, continuous_vars),\n",
    "        (\"cat\", cat_transformer, categorical_vars),\n",
    "    ],\n",
    "    remainder=\"passthrough\",\n",
    ")\n",
    "\n",
    "\n",
    "# Create pipelines for each classifier\n",
    "\n",
    "svm_pipe = make_pipeline(preproc_basic, SVC(random_state=6))\n",
    "\n",
    "\n",
    "# Train-Test split\n",
    "X_train, X_test, y_train, y_test = train_test_split(\n",
    "    X_selected, y, test_size=0.3, random_state=6\n",
    ")"
   ]
  },
  {
   "cell_type": "markdown",
   "id": "940efc83-efe9-4836-8453-c9a3a46db99d",
   "metadata": {},
   "source": [
    "## FIT and EVALUATE pipeline with competing classification models"
   ]
  },
  {
   "cell_type": "code",
   "execution_count": 6,
   "id": "e04bf431-8b6d-4784-88da-1db310422d3c",
   "metadata": {},
   "outputs": [
    {
     "name": "stdout",
     "output_type": "stream",
     "text": [
      "Cross-validated accuracy for svm_pipe: 0.6427553246925807\n"
     ]
    }
   ],
   "source": [
    "svm_pipe.fit(X_train, y_train)\n",
    "score = svm_pipe.score(X_test, y_test)\n",
    "\n",
    "# Cross-validate the pipeline\n",
    "cv_score = cross_val_score(svm_pipe, X_train, y_train, cv=5, scoring=\"accuracy\").mean()\n",
    "print(f\"Cross-validated accuracy for svm_pipe: {cv_score}\")\n",
    "\n",
    "# Fit preprocessing on the entire dataset\n",
    "X_train_preprocessed = preproc_basic.fit_transform(X_train)\n",
    "\n",
    "# Convert the transformed data to a DataFrame\n",
    "X_train_preprocessed_df = pd.DataFrame(\n",
    "    X_train_preprocessed,\n",
    "    columns=continuous_vars\n",
    "    + list(\n",
    "        preproc_basic.named_transformers_[\"cat\"].get_feature_names_out(categorical_vars)\n",
    "    ),\n",
    ")"
   ]
  },
  {
   "cell_type": "markdown",
   "id": "e84b7b8f-3ee4-4eca-94b2-876e8abf3726",
   "metadata": {},
   "source": [
    "## PREPROCESS INPUT DATA"
   ]
  },
  {
   "cell_type": "code",
   "execution_count": 7,
   "id": "09eddd75-917a-4024-b512-e92cd0e8c051",
   "metadata": {},
   "outputs": [],
   "source": [
    "df_kaggle_test = pd.read_csv(\"data/test.csv\")  # read in test data provided by Kaggle\n",
    "\n",
    "# preprocess input data\n",
    "df_kaggle_test = df_kaggle_test.copy()\n",
    "\n",
    "split_blood_pressure(df=df_kaggle_test)\n",
    "split_cholesterol_sample(df=df_kaggle_test)\n",
    "\n",
    "X_df_kaggle_test_selected = df_kaggle_test[continuous_vars + categorical_vars]\n",
    "\n",
    "# Create SVM pipeline with best parameters\n",
    "best_params = {\"C\": 0.0001, \"kernel\": \"linear\", \"gamma\": \"scale\", \"class_weight\": None}\n",
    "\n",
    "svm_pipe = Pipeline(\n",
    "    [\n",
    "        (\"preprocessor\", preproc_basic),\n",
    "        (\"classifier\", SVC(**best_params, random_state=6)),\n",
    "    ]\n",
    ")"
   ]
  },
  {
   "cell_type": "markdown",
   "id": "abe973be-db1a-44c3-bbbd-2933580754d5",
   "metadata": {},
   "source": [
    "## FIT"
   ]
  },
  {
   "cell_type": "code",
   "execution_count": 8,
   "id": "3d2a6f83-0d40-4d7d-8db4-c5ced295a31b",
   "metadata": {},
   "outputs": [
    {
     "data": {
      "text/html": [
       "<style>#sk-container-id-1 {color: black;background-color: white;}#sk-container-id-1 pre{padding: 0;}#sk-container-id-1 div.sk-toggleable {background-color: white;}#sk-container-id-1 label.sk-toggleable__label {cursor: pointer;display: block;width: 100%;margin-bottom: 0;padding: 0.3em;box-sizing: border-box;text-align: center;}#sk-container-id-1 label.sk-toggleable__label-arrow:before {content: \"▸\";float: left;margin-right: 0.25em;color: #696969;}#sk-container-id-1 label.sk-toggleable__label-arrow:hover:before {color: black;}#sk-container-id-1 div.sk-estimator:hover label.sk-toggleable__label-arrow:before {color: black;}#sk-container-id-1 div.sk-toggleable__content {max-height: 0;max-width: 0;overflow: hidden;text-align: left;background-color: #f0f8ff;}#sk-container-id-1 div.sk-toggleable__content pre {margin: 0.2em;color: black;border-radius: 0.25em;background-color: #f0f8ff;}#sk-container-id-1 input.sk-toggleable__control:checked~div.sk-toggleable__content {max-height: 200px;max-width: 100%;overflow: auto;}#sk-container-id-1 input.sk-toggleable__control:checked~label.sk-toggleable__label-arrow:before {content: \"▾\";}#sk-container-id-1 div.sk-estimator input.sk-toggleable__control:checked~label.sk-toggleable__label {background-color: #d4ebff;}#sk-container-id-1 div.sk-label input.sk-toggleable__control:checked~label.sk-toggleable__label {background-color: #d4ebff;}#sk-container-id-1 input.sk-hidden--visually {border: 0;clip: rect(1px 1px 1px 1px);clip: rect(1px, 1px, 1px, 1px);height: 1px;margin: -1px;overflow: hidden;padding: 0;position: absolute;width: 1px;}#sk-container-id-1 div.sk-estimator {font-family: monospace;background-color: #f0f8ff;border: 1px dotted black;border-radius: 0.25em;box-sizing: border-box;margin-bottom: 0.5em;}#sk-container-id-1 div.sk-estimator:hover {background-color: #d4ebff;}#sk-container-id-1 div.sk-parallel-item::after {content: \"\";width: 100%;border-bottom: 1px solid gray;flex-grow: 1;}#sk-container-id-1 div.sk-label:hover label.sk-toggleable__label {background-color: #d4ebff;}#sk-container-id-1 div.sk-serial::before {content: \"\";position: absolute;border-left: 1px solid gray;box-sizing: border-box;top: 0;bottom: 0;left: 50%;z-index: 0;}#sk-container-id-1 div.sk-serial {display: flex;flex-direction: column;align-items: center;background-color: white;padding-right: 0.2em;padding-left: 0.2em;position: relative;}#sk-container-id-1 div.sk-item {position: relative;z-index: 1;}#sk-container-id-1 div.sk-parallel {display: flex;align-items: stretch;justify-content: center;background-color: white;position: relative;}#sk-container-id-1 div.sk-item::before, #sk-container-id-1 div.sk-parallel-item::before {content: \"\";position: absolute;border-left: 1px solid gray;box-sizing: border-box;top: 0;bottom: 0;left: 50%;z-index: -1;}#sk-container-id-1 div.sk-parallel-item {display: flex;flex-direction: column;z-index: 1;position: relative;background-color: white;}#sk-container-id-1 div.sk-parallel-item:first-child::after {align-self: flex-end;width: 50%;}#sk-container-id-1 div.sk-parallel-item:last-child::after {align-self: flex-start;width: 50%;}#sk-container-id-1 div.sk-parallel-item:only-child::after {width: 0;}#sk-container-id-1 div.sk-dashed-wrapped {border: 1px dashed gray;margin: 0 0.4em 0.5em 0.4em;box-sizing: border-box;padding-bottom: 0.4em;background-color: white;}#sk-container-id-1 div.sk-label label {font-family: monospace;font-weight: bold;display: inline-block;line-height: 1.2em;}#sk-container-id-1 div.sk-label-container {text-align: center;}#sk-container-id-1 div.sk-container {/* jupyter's `normalize.less` sets `[hidden] { display: none; }` but bootstrap.min.css set `[hidden] { display: none !important; }` so we also need the `!important` here to be able to override the default hidden behavior on the sphinx rendered scikit-learn.org. See: https://github.com/scikit-learn/scikit-learn/issues/21755 */display: inline-block !important;position: relative;}#sk-container-id-1 div.sk-text-repr-fallback {display: none;}</style><div id=\"sk-container-id-1\" class=\"sk-top-container\"><div class=\"sk-text-repr-fallback\"><pre>Pipeline(steps=[(&#x27;preprocessor&#x27;,\n",
       "                 ColumnTransformer(remainder=&#x27;passthrough&#x27;,\n",
       "                                   transformers=[(&#x27;num&#x27;, MinMaxScaler(),\n",
       "                                                  [&#x27;Age&#x27;, &#x27;Heart Rate&#x27;,\n",
       "                                                   &#x27;Exercise Hours Per Week&#x27;,\n",
       "                                                   &#x27;Stress Level&#x27;,\n",
       "                                                   &#x27;Sedentary Hours Per Day&#x27;,\n",
       "                                                   &#x27;Income&#x27;, &#x27;BMI&#x27;,\n",
       "                                                   &#x27;Triglycerides&#x27;,\n",
       "                                                   &#x27;Physical Activity Days Per &#x27;\n",
       "                                                   &#x27;Week&#x27;,\n",
       "                                                   &#x27;Sleep Hours Per Day&#x27;,\n",
       "                                                   &#x27;Systolic&#x27;, &#x27;Diastolic&#x27;]),\n",
       "                                                 (&#x27;cat&#x27;,\n",
       "                                                  OneHotEncoder(drop=&#x27;first&#x27;),\n",
       "                                                  [&#x27;Diabetes&#x27;, &#x27;Family History&#x27;,\n",
       "                                                   &#x27;Obesity&#x27;,\n",
       "                                                   &#x27;Alcohol Consumption&#x27;,\n",
       "                                                   &#x27;Previous Heart Problems&#x27;,\n",
       "                                                   &#x27;Medication Use&#x27;,\n",
       "                                                   &#x27;Cholesterol_sample_split&#x27;,\n",
       "                                                   &#x27;Sex&#x27;, &#x27;Continent&#x27;, &#x27;Diet&#x27;,\n",
       "                                                   &#x27;Hemisphere&#x27;])])),\n",
       "                (&#x27;classifier&#x27;, SVC(C=0.0001, kernel=&#x27;linear&#x27;, random_state=6))])</pre><b>In a Jupyter environment, please rerun this cell to show the HTML representation or trust the notebook. <br />On GitHub, the HTML representation is unable to render, please try loading this page with nbviewer.org.</b></div><div class=\"sk-container\" hidden><div class=\"sk-item sk-dashed-wrapped\"><div class=\"sk-label-container\"><div class=\"sk-label sk-toggleable\"><input class=\"sk-toggleable__control sk-hidden--visually\" id=\"sk-estimator-id-1\" type=\"checkbox\" ><label for=\"sk-estimator-id-1\" class=\"sk-toggleable__label sk-toggleable__label-arrow\">Pipeline</label><div class=\"sk-toggleable__content\"><pre>Pipeline(steps=[(&#x27;preprocessor&#x27;,\n",
       "                 ColumnTransformer(remainder=&#x27;passthrough&#x27;,\n",
       "                                   transformers=[(&#x27;num&#x27;, MinMaxScaler(),\n",
       "                                                  [&#x27;Age&#x27;, &#x27;Heart Rate&#x27;,\n",
       "                                                   &#x27;Exercise Hours Per Week&#x27;,\n",
       "                                                   &#x27;Stress Level&#x27;,\n",
       "                                                   &#x27;Sedentary Hours Per Day&#x27;,\n",
       "                                                   &#x27;Income&#x27;, &#x27;BMI&#x27;,\n",
       "                                                   &#x27;Triglycerides&#x27;,\n",
       "                                                   &#x27;Physical Activity Days Per &#x27;\n",
       "                                                   &#x27;Week&#x27;,\n",
       "                                                   &#x27;Sleep Hours Per Day&#x27;,\n",
       "                                                   &#x27;Systolic&#x27;, &#x27;Diastolic&#x27;]),\n",
       "                                                 (&#x27;cat&#x27;,\n",
       "                                                  OneHotEncoder(drop=&#x27;first&#x27;),\n",
       "                                                  [&#x27;Diabetes&#x27;, &#x27;Family History&#x27;,\n",
       "                                                   &#x27;Obesity&#x27;,\n",
       "                                                   &#x27;Alcohol Consumption&#x27;,\n",
       "                                                   &#x27;Previous Heart Problems&#x27;,\n",
       "                                                   &#x27;Medication Use&#x27;,\n",
       "                                                   &#x27;Cholesterol_sample_split&#x27;,\n",
       "                                                   &#x27;Sex&#x27;, &#x27;Continent&#x27;, &#x27;Diet&#x27;,\n",
       "                                                   &#x27;Hemisphere&#x27;])])),\n",
       "                (&#x27;classifier&#x27;, SVC(C=0.0001, kernel=&#x27;linear&#x27;, random_state=6))])</pre></div></div></div><div class=\"sk-serial\"><div class=\"sk-item sk-dashed-wrapped\"><div class=\"sk-label-container\"><div class=\"sk-label sk-toggleable\"><input class=\"sk-toggleable__control sk-hidden--visually\" id=\"sk-estimator-id-2\" type=\"checkbox\" ><label for=\"sk-estimator-id-2\" class=\"sk-toggleable__label sk-toggleable__label-arrow\">preprocessor: ColumnTransformer</label><div class=\"sk-toggleable__content\"><pre>ColumnTransformer(remainder=&#x27;passthrough&#x27;,\n",
       "                  transformers=[(&#x27;num&#x27;, MinMaxScaler(),\n",
       "                                 [&#x27;Age&#x27;, &#x27;Heart Rate&#x27;,\n",
       "                                  &#x27;Exercise Hours Per Week&#x27;, &#x27;Stress Level&#x27;,\n",
       "                                  &#x27;Sedentary Hours Per Day&#x27;, &#x27;Income&#x27;, &#x27;BMI&#x27;,\n",
       "                                  &#x27;Triglycerides&#x27;,\n",
       "                                  &#x27;Physical Activity Days Per Week&#x27;,\n",
       "                                  &#x27;Sleep Hours Per Day&#x27;, &#x27;Systolic&#x27;,\n",
       "                                  &#x27;Diastolic&#x27;]),\n",
       "                                (&#x27;cat&#x27;, OneHotEncoder(drop=&#x27;first&#x27;),\n",
       "                                 [&#x27;Diabetes&#x27;, &#x27;Family History&#x27;, &#x27;Obesity&#x27;,\n",
       "                                  &#x27;Alcohol Consumption&#x27;,\n",
       "                                  &#x27;Previous Heart Problems&#x27;, &#x27;Medication Use&#x27;,\n",
       "                                  &#x27;Cholesterol_sample_split&#x27;, &#x27;Sex&#x27;,\n",
       "                                  &#x27;Continent&#x27;, &#x27;Diet&#x27;, &#x27;Hemisphere&#x27;])])</pre></div></div></div><div class=\"sk-parallel\"><div class=\"sk-parallel-item\"><div class=\"sk-item\"><div class=\"sk-label-container\"><div class=\"sk-label sk-toggleable\"><input class=\"sk-toggleable__control sk-hidden--visually\" id=\"sk-estimator-id-3\" type=\"checkbox\" ><label for=\"sk-estimator-id-3\" class=\"sk-toggleable__label sk-toggleable__label-arrow\">num</label><div class=\"sk-toggleable__content\"><pre>[&#x27;Age&#x27;, &#x27;Heart Rate&#x27;, &#x27;Exercise Hours Per Week&#x27;, &#x27;Stress Level&#x27;, &#x27;Sedentary Hours Per Day&#x27;, &#x27;Income&#x27;, &#x27;BMI&#x27;, &#x27;Triglycerides&#x27;, &#x27;Physical Activity Days Per Week&#x27;, &#x27;Sleep Hours Per Day&#x27;, &#x27;Systolic&#x27;, &#x27;Diastolic&#x27;]</pre></div></div></div><div class=\"sk-serial\"><div class=\"sk-item\"><div class=\"sk-estimator sk-toggleable\"><input class=\"sk-toggleable__control sk-hidden--visually\" id=\"sk-estimator-id-4\" type=\"checkbox\" ><label for=\"sk-estimator-id-4\" class=\"sk-toggleable__label sk-toggleable__label-arrow\">MinMaxScaler</label><div class=\"sk-toggleable__content\"><pre>MinMaxScaler()</pre></div></div></div></div></div></div><div class=\"sk-parallel-item\"><div class=\"sk-item\"><div class=\"sk-label-container\"><div class=\"sk-label sk-toggleable\"><input class=\"sk-toggleable__control sk-hidden--visually\" id=\"sk-estimator-id-5\" type=\"checkbox\" ><label for=\"sk-estimator-id-5\" class=\"sk-toggleable__label sk-toggleable__label-arrow\">cat</label><div class=\"sk-toggleable__content\"><pre>[&#x27;Diabetes&#x27;, &#x27;Family History&#x27;, &#x27;Obesity&#x27;, &#x27;Alcohol Consumption&#x27;, &#x27;Previous Heart Problems&#x27;, &#x27;Medication Use&#x27;, &#x27;Cholesterol_sample_split&#x27;, &#x27;Sex&#x27;, &#x27;Continent&#x27;, &#x27;Diet&#x27;, &#x27;Hemisphere&#x27;]</pre></div></div></div><div class=\"sk-serial\"><div class=\"sk-item\"><div class=\"sk-estimator sk-toggleable\"><input class=\"sk-toggleable__control sk-hidden--visually\" id=\"sk-estimator-id-6\" type=\"checkbox\" ><label for=\"sk-estimator-id-6\" class=\"sk-toggleable__label sk-toggleable__label-arrow\">OneHotEncoder</label><div class=\"sk-toggleable__content\"><pre>OneHotEncoder(drop=&#x27;first&#x27;)</pre></div></div></div></div></div></div><div class=\"sk-parallel-item\"><div class=\"sk-item\"><div class=\"sk-label-container\"><div class=\"sk-label sk-toggleable\"><input class=\"sk-toggleable__control sk-hidden--visually\" id=\"sk-estimator-id-7\" type=\"checkbox\" ><label for=\"sk-estimator-id-7\" class=\"sk-toggleable__label sk-toggleable__label-arrow\">remainder</label><div class=\"sk-toggleable__content\"><pre>[]</pre></div></div></div><div class=\"sk-serial\"><div class=\"sk-item\"><div class=\"sk-estimator sk-toggleable\"><input class=\"sk-toggleable__control sk-hidden--visually\" id=\"sk-estimator-id-8\" type=\"checkbox\" ><label for=\"sk-estimator-id-8\" class=\"sk-toggleable__label sk-toggleable__label-arrow\">passthrough</label><div class=\"sk-toggleable__content\"><pre>passthrough</pre></div></div></div></div></div></div></div></div><div class=\"sk-item\"><div class=\"sk-estimator sk-toggleable\"><input class=\"sk-toggleable__control sk-hidden--visually\" id=\"sk-estimator-id-9\" type=\"checkbox\" ><label for=\"sk-estimator-id-9\" class=\"sk-toggleable__label sk-toggleable__label-arrow\">SVC</label><div class=\"sk-toggleable__content\"><pre>SVC(C=0.0001, kernel=&#x27;linear&#x27;, random_state=6)</pre></div></div></div></div></div></div></div>"
      ],
      "text/plain": [
       "Pipeline(steps=[('preprocessor',\n",
       "                 ColumnTransformer(remainder='passthrough',\n",
       "                                   transformers=[('num', MinMaxScaler(),\n",
       "                                                  ['Age', 'Heart Rate',\n",
       "                                                   'Exercise Hours Per Week',\n",
       "                                                   'Stress Level',\n",
       "                                                   'Sedentary Hours Per Day',\n",
       "                                                   'Income', 'BMI',\n",
       "                                                   'Triglycerides',\n",
       "                                                   'Physical Activity Days Per '\n",
       "                                                   'Week',\n",
       "                                                   'Sleep Hours Per Day',\n",
       "                                                   'Systolic', 'Diastolic']),\n",
       "                                                 ('cat',\n",
       "                                                  OneHotEncoder(drop='first'),\n",
       "                                                  ['Diabetes', 'Family History',\n",
       "                                                   'Obesity',\n",
       "                                                   'Alcohol Consumption',\n",
       "                                                   'Previous Heart Problems',\n",
       "                                                   'Medication Use',\n",
       "                                                   'Cholesterol_sample_split',\n",
       "                                                   'Sex', 'Continent', 'Diet',\n",
       "                                                   'Hemisphere'])])),\n",
       "                ('classifier', SVC(C=0.0001, kernel='linear', random_state=6))])"
      ]
     },
     "execution_count": 8,
     "metadata": {},
     "output_type": "execute_result"
    }
   ],
   "source": [
    "# Train the SVM model on the entire preprocessed training dataset\n",
    "svm_pipe.fit(X_selected, y)"
   ]
  },
  {
   "cell_type": "markdown",
   "id": "0a7f0426-c5f8-4f4b-ae01-17f6246b9969",
   "metadata": {},
   "source": [
    "## PREDICT"
   ]
  },
  {
   "cell_type": "code",
   "execution_count": 9,
   "id": "ed61e1ba-6647-4314-9c41-e1ca15e349fb",
   "metadata": {},
   "outputs": [
    {
     "data": {
      "text/plain": [
       "array([0, 0, 0, ..., 0, 0, 0])"
      ]
     },
     "execution_count": 9,
     "metadata": {},
     "output_type": "execute_result"
    }
   ],
   "source": [
    "# numpy.set_printoptions(threshold=sys.maxsize)\n",
    "\n",
    "prediction = svm_pipe.predict(X_df_kaggle_test_selected)\n",
    "prediction"
   ]
  },
  {
   "cell_type": "code",
   "execution_count": null,
   "id": "61ab10d9-b2fc-4448-b2dd-cc1886827cc6",
   "metadata": {},
   "outputs": [],
   "source": []
  }
 ],
 "metadata": {
  "kernelspec": {
   "display_name": "Python 3 (ipykernel)",
   "language": "python",
   "name": "python3"
  },
  "language_info": {
   "codemirror_mode": {
    "name": "ipython",
    "version": 3
   },
   "file_extension": ".py",
   "mimetype": "text/x-python",
   "name": "python",
   "nbconvert_exporter": "python",
   "pygments_lexer": "ipython3",
   "version": "3.10.12"
  }
 },
 "nbformat": 4,
 "nbformat_minor": 5
}
